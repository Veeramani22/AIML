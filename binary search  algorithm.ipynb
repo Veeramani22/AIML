{
 "cells": [
  {
   "cell_type": "code",
   "execution_count": 19,
   "id": "05364347",
   "metadata": {},
   "outputs": [
    {
     "name": "stdout",
     "output_type": "stream",
     "text": [
      "[0, 1, 3, 5, 6, 7, 8, 9, 11, 12, 14, 21, 22, 23, 32, 34, 43, 45, 56, 89, 98]\n",
      "enter the element44\n"
     ]
    }
   ],
   "source": [
    "data=[3,23,34,5,7,8,9,21,56,0,14,11,12,22,43,32,89,98,6,45,1]\n",
    "data.sort()\n",
    "print(data)\n",
    "elem=int(input(\"enter the element\"))\n"
   ]
  },
  {
   "cell_type": "code",
   "execution_count": 14,
   "id": "27a10229",
   "metadata": {},
   "outputs": [],
   "source": [
    "def binary_search(data,elem):\n",
    "    low=0\n",
    "    high=len(data)-1    \n",
    "    while low<=high:        \n",
    "        middle=(low+high)//2        \n",
    "        if data[middle]==elem:\n",
    "            print(f\"the searching element is{elem} present at intex value {middle}in dataset\")\n",
    "            break        \n",
    "        elif data[middle]>elem:\n",
    "            high=middle-1        \n",
    "        else:\n",
    "            low=middle+1\n",
    "    if data[middle]!=elem:\n",
    "        print(f\" the searching element is {elem}  not present in the dataset\")\n",
    "        return\n",
    "    "
   ]
  },
  {
   "cell_type": "code",
   "execution_count": 20,
   "id": "60503835",
   "metadata": {},
   "outputs": [
    {
     "name": "stdout",
     "output_type": "stream",
     "text": [
      " the searching element is 44  not present in the dataset\n"
     ]
    }
   ],
   "source": [
    "binary_search(data,elem)\n"
   ]
  },
  {
   "cell_type": "code",
   "execution_count": null,
   "id": "0ae65963",
   "metadata": {},
   "outputs": [],
   "source": [
    "                          "
   ]
  }
 ],
 "metadata": {
  "kernelspec": {
   "display_name": "Python 3 (ipykernel)",
   "language": "python",
   "name": "python3"
  },
  "language_info": {
   "codemirror_mode": {
    "name": "ipython",
    "version": 3
   },
   "file_extension": ".py",
   "mimetype": "text/x-python",
   "name": "python",
   "nbconvert_exporter": "python",
   "pygments_lexer": "ipython3",
   "version": "3.10.12"
  }
 },
 "nbformat": 4,
 "nbformat_minor": 5
}
