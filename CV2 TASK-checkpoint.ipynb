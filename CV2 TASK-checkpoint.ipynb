{
 "cells": [
  {
   "cell_type": "code",
   "execution_count": 1,
   "id": "638b8f01",
   "metadata": {},
   "outputs": [],
   "source": [
    "import cv2\n",
    "import numpy as np"
   ]
  },
  {
   "cell_type": "code",
   "execution_count": 2,
   "id": "bad6491f",
   "metadata": {},
   "outputs": [],
   "source": [
    "a=cv2.imread(\"C:\\\\Users\\\\pmu\\\\Downloads\\\\images.jpg\")\n",
    "b=cv2.imread(\"C:\\\\Users\\\\pmu\\\\Downloads\\\\download (2).jpg\")"
   ]
  },
  {
   "cell_type": "code",
   "execution_count": null,
   "id": "8828996a",
   "metadata": {},
   "outputs": [],
   "source": [
    "cv2.imshow(\"img1\",a)\n",
    "cv2.imshow(\"img2\",b)\n",
    "cv2.waitKey(0)\n",
    "cv2.destroyAllWindows()"
   ]
  },
  {
   "cell_type": "code",
   "execution_count": null,
   "id": "3f37ca3d",
   "metadata": {},
   "outputs": [],
   "source": [
    "blend=cv2.addWeighted(a,5,b,3,0)"
   ]
  },
  {
   "cell_type": "code",
   "execution_count": null,
   "id": "1e2266a6",
   "metadata": {},
   "outputs": [],
   "source": [
    "cv2.imshow(\"blend\",blend)\n",
    "cv2.imshow(\"img1\",a)\n",
    "cv2.imshow(\"img2\",b)\n",
    "cv2.waitKey(0)\n",
    "cv2.destroyAllWindows()"
   ]
  },
  {
   "cell_type": "code",
   "execution_count": null,
   "id": "e12700a1",
   "metadata": {},
   "outputs": [],
   "source": [
    "sub=cv2.subtract(b,a)"
   ]
  },
  {
   "cell_type": "code",
   "execution_count": null,
   "id": "8ab8941e",
   "metadata": {},
   "outputs": [],
   "source": [
    "cv2.imshow(\"sub\",sub)\n",
    "cv2.waitKey(0)\n",
    "cv2.destroyAllWindows()"
   ]
  },
  {
   "cell_type": "code",
   "execution_count": null,
   "id": "49cc882a",
   "metadata": {},
   "outputs": [],
   "source": [
    "And=cv2.bitwise_and(a,b)\n",
    "OR=cv2.bitwise_or(a,b)\n",
    "NOT=cv2.bitwise_not(a,b)\n",
    "XOR=cv2.bitwise_xor(a,b)"
   ]
  },
  {
   "cell_type": "code",
   "execution_count": null,
   "id": "1397e0db",
   "metadata": {},
   "outputs": [],
   "source": [
    "cv2.imshow(\"and\",And)\n",
    "cv2.waitKey(0)\n",
    "cv2.imshow(\"or\",OR)\n",
    "cv2.waitKey(0)\n",
    "cv2.imshow(\"NOT\",NOT)\n",
    "cv2.waitKey(0)\n",
    "cv2.imshow(\"XOR\",XOR)\n",
    "cv2.waitKey(0)\n",
    "cv2.destroyAllWindows()"
   ]
  },
  {
   "cell_type": "code",
   "execution_count": null,
   "id": "c004e88f",
   "metadata": {},
   "outputs": [],
   "source": [
    "NOR=cv2.bitwise_not(OR)"
   ]
  },
  {
   "cell_type": "code",
   "execution_count": null,
   "id": "e5dc3e26",
   "metadata": {},
   "outputs": [],
   "source": [
    "cv2.imshow(\"not+or\",NOR)\n",
    "cv2.waitKey(0)\n",
    "cv2.imshow(\"XOR\",XOR)\n",
    "cv2.waitKey(0)\n",
    "cv2.destroyAllWindows()"
   ]
  },
  {
   "cell_type": "markdown",
   "id": "e6caa47a",
   "metadata": {},
   "source": [
    "# REGION OF INTREST"
   ]
  },
  {
   "cell_type": "code",
   "execution_count": null,
   "id": "dbba3403",
   "metadata": {},
   "outputs": [],
   "source": [
    "roi=im1[25:50,38:55]"
   ]
  },
  {
   "cell_type": "code",
   "execution_count": null,
   "id": "f2f13f0f",
   "metadata": {},
   "outputs": [],
   "source": [
    "cv2.imshow(\"ROI\",roi)\n",
    "cv2.waitKey(0)\n",
    "cv2.destroyAllWindows()"
   ]
  },
  {
   "cell_type": "code",
   "execution_count": null,
   "id": "abd59b3b",
   "metadata": {},
   "outputs": [],
   "source": []
  },
  {
   "cell_type": "code",
   "execution_count": null,
   "id": "54ffc9a4",
   "metadata": {},
   "outputs": [],
   "source": []
  }
 ],
 "metadata": {
  "kernelspec": {
   "display_name": "Python 3 (ipykernel)",
   "language": "python",
   "name": "python3"
  },
  "language_info": {
   "codemirror_mode": {
    "name": "ipython",
    "version": 3
   },
   "file_extension": ".py",
   "mimetype": "text/x-python",
   "name": "python",
   "nbconvert_exporter": "python",
   "pygments_lexer": "ipython3",
   "version": "3.9.18"
  }
 },
 "nbformat": 4,
 "nbformat_minor": 5
}
