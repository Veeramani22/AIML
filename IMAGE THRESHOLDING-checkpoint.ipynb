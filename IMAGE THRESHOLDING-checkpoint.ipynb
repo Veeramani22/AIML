{
 "cells": [
  {
   "cell_type": "code",
   "execution_count": 1,
   "id": "bd2926a2",
   "metadata": {},
   "outputs": [],
   "source": [
    "import cv2\n",
    "import numpy as np"
   ]
  },
  {
   "cell_type": "code",
   "execution_count": 2,
   "id": "6bfb63b7",
   "metadata": {},
   "outputs": [],
   "source": [
    "a=cv2.imread(\"C:\\\\Users\\\\pmu\\\\Downloads\\\\images.jpg\",0)"
   ]
  },
  {
   "cell_type": "code",
   "execution_count": 3,
   "id": "eae304f6",
   "metadata": {},
   "outputs": [],
   "source": [
    "cv2.imshow(\"a\",a)\n",
    "cv2.waitKey(0)\n",
    "cv2.destroyAllWindows()"
   ]
  },
  {
   "cell_type": "code",
   "execution_count": 4,
   "id": "47a69de9",
   "metadata": {},
   "outputs": [
    {
     "data": {
      "text/plain": [
       "array([[255, 255, 255, ..., 255, 255, 255],\n",
       "       [255, 255, 255, ..., 255, 255, 255],\n",
       "       [255, 255, 255, ..., 255, 255, 255],\n",
       "       ...,\n",
       "       [195, 195, 193, ..., 255, 255, 255],\n",
       "       [248, 247, 253, ..., 255, 255, 255],\n",
       "       [255, 255, 255, ..., 255, 255, 255]], dtype=uint8)"
      ]
     },
     "execution_count": 4,
     "metadata": {},
     "output_type": "execute_result"
    }
   ],
   "source": [
    "a"
   ]
  },
  {
   "cell_type": "code",
   "execution_count": 5,
   "id": "35385df1",
   "metadata": {},
   "outputs": [],
   "source": [
    "#syntax\n",
    "ret,thres=cv2.threshold(a,197,193,cv2.THRESH_BINARY)"
   ]
  },
  {
   "cell_type": "code",
   "execution_count": 6,
   "id": "63f03e82",
   "metadata": {},
   "outputs": [
    {
     "data": {
      "text/plain": [
       "array([[193, 193, 193, ..., 193, 193, 193],\n",
       "       [193, 193, 193, ..., 193, 193, 193],\n",
       "       [193, 193, 193, ..., 193, 193, 193],\n",
       "       ...,\n",
       "       [  0,   0,   0, ..., 193, 193, 193],\n",
       "       [193, 193, 193, ..., 193, 193, 193],\n",
       "       [193, 193, 193, ..., 193, 193, 193]], dtype=uint8)"
      ]
     },
     "execution_count": 6,
     "metadata": {},
     "output_type": "execute_result"
    }
   ],
   "source": [
    "thres"
   ]
  },
  {
   "cell_type": "code",
   "execution_count": 7,
   "id": "694da9f2",
   "metadata": {},
   "outputs": [
    {
     "name": "stdout",
     "output_type": "stream",
     "text": [
      "197.0\n"
     ]
    }
   ],
   "source": [
    "print(ret)"
   ]
  },
  {
   "cell_type": "code",
   "execution_count": 8,
   "id": "6befe3cd",
   "metadata": {},
   "outputs": [],
   "source": [
    "cv2.imshow(\"thres\",thres)\n",
    "cv2.waitKey(0)\n",
    "cv2.destroyAllWindows()"
   ]
  },
  {
   "cell_type": "markdown",
   "id": "b2f5a79a",
   "metadata": {},
   "source": [
    "syntax: ret,varname=cv2.threshold(inputimage,threshold limit,replace value ,<threshold type)"
   ]
  },
  {
   "cell_type": "code",
   "execution_count": 9,
   "id": "96df28ab",
   "metadata": {},
   "outputs": [],
   "source": [
    "ret,thres1=cv2.threshold(a,197,193,cv2.THRESH_BINARY)\n",
    "ret,thres2=cv2.threshold(a,197,193,cv2.THRESH_BINARY_INV)\n",
    "ret,thres3=cv2.threshold(a,197,193,cv2.THRESH_TRUNC)\n",
    "ret,thres4=cv2.threshold(a,197,193,cv2.THRESH_TOZERO)\n",
    "ret,thres5=cv2.threshold(a,197,193,cv2.THRESH_TOZERO_INV)"
   ]
  },
  {
   "cell_type": "code",
   "execution_count": 10,
   "id": "f8234003",
   "metadata": {},
   "outputs": [
    {
     "data": {
      "text/plain": [
       "array([[193, 193, 193, ..., 193, 193, 193],\n",
       "       [193, 193, 193, ..., 193, 193, 193],\n",
       "       [193, 193, 193, ..., 193, 193, 193],\n",
       "       ...,\n",
       "       [  0,   0,   0, ..., 193, 193, 193],\n",
       "       [193, 193, 193, ..., 193, 193, 193],\n",
       "       [193, 193, 193, ..., 193, 193, 193]], dtype=uint8)"
      ]
     },
     "execution_count": 10,
     "metadata": {},
     "output_type": "execute_result"
    }
   ],
   "source": [
    "thres1"
   ]
  },
  {
   "cell_type": "code",
   "execution_count": 11,
   "id": "f3da0e65",
   "metadata": {},
   "outputs": [
    {
     "data": {
      "text/plain": [
       "array([[  0,   0,   0, ...,   0,   0,   0],\n",
       "       [  0,   0,   0, ...,   0,   0,   0],\n",
       "       [  0,   0,   0, ...,   0,   0,   0],\n",
       "       ...,\n",
       "       [193, 193, 193, ...,   0,   0,   0],\n",
       "       [  0,   0,   0, ...,   0,   0,   0],\n",
       "       [  0,   0,   0, ...,   0,   0,   0]], dtype=uint8)"
      ]
     },
     "execution_count": 11,
     "metadata": {},
     "output_type": "execute_result"
    }
   ],
   "source": [
    "thres2"
   ]
  },
  {
   "cell_type": "code",
   "execution_count": 12,
   "id": "34b7e876",
   "metadata": {},
   "outputs": [
    {
     "data": {
      "text/plain": [
       "array([[197, 197, 197, ..., 197, 197, 197],\n",
       "       [197, 197, 197, ..., 197, 197, 197],\n",
       "       [197, 197, 197, ..., 197, 197, 197],\n",
       "       ...,\n",
       "       [195, 195, 193, ..., 197, 197, 197],\n",
       "       [197, 197, 197, ..., 197, 197, 197],\n",
       "       [197, 197, 197, ..., 197, 197, 197]], dtype=uint8)"
      ]
     },
     "execution_count": 12,
     "metadata": {},
     "output_type": "execute_result"
    }
   ],
   "source": [
    "thres3"
   ]
  },
  {
   "cell_type": "code",
   "execution_count": 13,
   "id": "19267c42",
   "metadata": {},
   "outputs": [
    {
     "data": {
      "text/plain": [
       "array([[255, 255, 255, ..., 255, 255, 255],\n",
       "       [255, 255, 255, ..., 255, 255, 255],\n",
       "       [255, 255, 255, ..., 255, 255, 255],\n",
       "       ...,\n",
       "       [  0,   0,   0, ..., 255, 255, 255],\n",
       "       [248, 247, 253, ..., 255, 255, 255],\n",
       "       [255, 255, 255, ..., 255, 255, 255]], dtype=uint8)"
      ]
     },
     "execution_count": 13,
     "metadata": {},
     "output_type": "execute_result"
    }
   ],
   "source": [
    "thres4"
   ]
  },
  {
   "cell_type": "code",
   "execution_count": 14,
   "id": "45846f62",
   "metadata": {},
   "outputs": [
    {
     "data": {
      "text/plain": [
       "array([[  0,   0,   0, ...,   0,   0,   0],\n",
       "       [  0,   0,   0, ...,   0,   0,   0],\n",
       "       [  0,   0,   0, ...,   0,   0,   0],\n",
       "       ...,\n",
       "       [195, 195, 193, ...,   0,   0,   0],\n",
       "       [  0,   0,   0, ...,   0,   0,   0],\n",
       "       [  0,   0,   0, ...,   0,   0,   0]], dtype=uint8)"
      ]
     },
     "execution_count": 14,
     "metadata": {},
     "output_type": "execute_result"
    }
   ],
   "source": [
    "thres5"
   ]
  },
  {
   "cell_type": "code",
   "execution_count": 15,
   "id": "d0751b03",
   "metadata": {},
   "outputs": [],
   "source": [
    "cv2.imshow(\"thres1\",thres1)\n",
    "cv2.waitKey(0)\n",
    "cv2.imshow(\"thres2\",thres2)\n",
    "cv2.waitKey(0)\n",
    "cv2.imshow(\"thres3\",thres3)\n",
    "cv2.waitKey(0)\n",
    "cv2.imshow(\"thres4\",thres4)\n",
    "cv2.waitKey(0)\n",
    "cv2.imshow(\"thres\",thres5)\n",
    "cv2.waitKey(0)\n",
    "cv2.destroyAllWindows()"
   ]
  },
  {
   "cell_type": "code",
   "execution_count": null,
   "id": "eb37f278",
   "metadata": {},
   "outputs": [],
   "source": []
  }
 ],
 "metadata": {
  "kernelspec": {
   "display_name": "Python 3 (ipykernel)",
   "language": "python",
   "name": "python3"
  },
  "language_info": {
   "codemirror_mode": {
    "name": "ipython",
    "version": 3
   },
   "file_extension": ".py",
   "mimetype": "text/x-python",
   "name": "python",
   "nbconvert_exporter": "python",
   "pygments_lexer": "ipython3",
   "version": "3.9.18"
  }
 },
 "nbformat": 4,
 "nbformat_minor": 5
}
