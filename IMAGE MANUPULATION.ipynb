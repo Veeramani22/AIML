{
 "cells": [
  {
   "cell_type": "code",
   "execution_count": 1,
   "id": "13022d7b",
   "metadata": {},
   "outputs": [],
   "source": [
    "import cv2"
   ]
  },
  {
   "cell_type": "code",
   "execution_count": 2,
   "id": "793c0f2b",
   "metadata": {},
   "outputs": [],
   "source": [
    "import numpy as np"
   ]
  },
  {
   "cell_type": "code",
   "execution_count": null,
   "id": "a3424a46",
   "metadata": {},
   "outputs": [],
   "source": [
    "im1=cv2.imread(\"C:\\\\Users\\\\SYS76\\\\Downloads\\\\images.jpg\")"
   ]
  },
  {
   "cell_type": "code",
   "execution_count": null,
   "id": "cfd4ced1",
   "metadata": {},
   "outputs": [],
   "source": [
    "print(im1.shape)"
   ]
  },
  {
   "cell_type": "code",
   "execution_count": null,
   "id": "a4d8b36f",
   "metadata": {},
   "outputs": [],
   "source": [
    "print(im1.size)"
   ]
  },
  {
   "cell_type": "code",
   "execution_count": null,
   "id": "97ce9465",
   "metadata": {},
   "outputs": [],
   "source": [
    "im1_resized=cv2.resize(im1,(199,199))"
   ]
  },
  {
   "cell_type": "code",
   "execution_count": null,
   "id": "c596d440",
   "metadata": {},
   "outputs": [],
   "source": [
    "print(im1_resized.shape)"
   ]
  },
  {
   "cell_type": "markdown",
   "id": "fcc35fdd",
   "metadata": {},
   "source": [
    "cv2.imshow(\"img1\",im1)\n",
    "cv2.imshow(\"img2\",im1_resized)\n",
    "cv2.waitKey(0)\n",
    "cv2.destroyAllWindows()"
   ]
  },
  {
   "cell_type": "markdown",
   "id": "0ba48ae6",
   "metadata": {},
   "source": [
    "# color space changing"
   ]
  },
  {
   "cell_type": "code",
   "execution_count": null,
   "id": "f687bb92",
   "metadata": {},
   "outputs": [],
   "source": [
    "colors_avl=[i for i in dir(cv2) if i .startswith(\"COLOR_BGR\")]"
   ]
  },
  {
   "cell_type": "code",
   "execution_count": null,
   "id": "005632d0",
   "metadata": {},
   "outputs": [],
   "source": [
    "print(colors_avl)"
   ]
  },
  {
   "cell_type": "code",
   "execution_count": null,
   "id": "1175fe28",
   "metadata": {
    "scrolled": true
   },
   "outputs": [],
   "source": [
    "im3=cv2.cvtColor(im1,cv2.COLOR_BGRA2RGB)"
   ]
  },
  {
   "cell_type": "code",
   "execution_count": null,
   "id": "780ba173",
   "metadata": {},
   "outputs": [],
   "source": [
    "cv2.imshow(\"img1\",im1)\n",
    "cv2.imshow(\"img2\",im3)\n",
    "cv2.waitKey(0)\n",
    "cv2.destroyAllWindows()"
   ]
  },
  {
   "cell_type": "markdown",
   "id": "617d7c97",
   "metadata": {},
   "source": [
    "# IMAGE BLENDIG"
   ]
  },
  {
   "cell_type": "code",
   "execution_count": null,
   "id": "c7502191",
   "metadata": {},
   "outputs": [],
   "source": []
  }
 ],
 "metadata": {
  "kernelspec": {
   "display_name": "Python 3 (ipykernel)",
   "language": "python",
   "name": "python3"
  },
  "language_info": {
   "codemirror_mode": {
    "name": "ipython",
    "version": 3
   },
   "file_extension": ".py",
   "mimetype": "text/x-python",
   "name": "python",
   "nbconvert_exporter": "python",
   "pygments_lexer": "ipython3",
   "version": "3.9.18"
  }
 },
 "nbformat": 4,
 "nbformat_minor": 5
}
