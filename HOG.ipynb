{
 "cells": [
  {
   "cell_type": "code",
   "execution_count": 2,
   "id": "7c7f6857",
   "metadata": {
    "scrolled": true
   },
   "outputs": [
    {
     "name": "stdout",
     "output_type": "stream",
     "text": [
      "Requirement already satisfied: imutils in c:\\users\\sys76\\anaconda3\\envs\\veeramani891aiml\\lib\\site-packages (0.5.4)\n",
      "Note: you may need to restart the kernel to use updated packages.\n"
     ]
    }
   ],
   "source": [
    "pip install imutils"
   ]
  },
  {
   "cell_type": "code",
   "execution_count": 3,
   "id": "f81c5020",
   "metadata": {},
   "outputs": [],
   "source": [
    "import cv2,imutils"
   ]
  },
  {
   "cell_type": "markdown",
   "id": "d0e0524c",
   "metadata": {},
   "source": [
    "# HOG PERSON DETECTOR"
   ]
  },
  {
   "cell_type": "code",
   "execution_count": 4,
   "id": "577d8abb",
   "metadata": {},
   "outputs": [],
   "source": [
    "a=cv2.imread('C:\\\\Users\\\\SYS76\\\\Downloads\\\\PONGAL.jpg')"
   ]
  },
  {
   "cell_type": "code",
   "execution_count": 5,
   "id": "aaa32136",
   "metadata": {},
   "outputs": [],
   "source": [
    "hog=cv2.HOGDescriptor()\n",
    "hog.setSVMDetector(cv2.HOGDescriptor_getDefaultPeopleDetector())"
   ]
  },
  {
   "cell_type": "code",
   "execution_count": 6,
   "id": "ecbab8c1",
   "metadata": {},
   "outputs": [
    {
     "data": {
      "text/plain": [
       "< cv2.HOGDescriptor 00000285A5EEC770>"
      ]
     },
     "execution_count": 6,
     "metadata": {},
     "output_type": "execute_result"
    }
   ],
   "source": [
    "hog"
   ]
  },
  {
   "cell_type": "code",
   "execution_count": 7,
   "id": "d6d83c6c",
   "metadata": {},
   "outputs": [
    {
     "data": {
      "text/plain": [
       "(680, 1024, 3)"
      ]
     },
     "execution_count": 7,
     "metadata": {},
     "output_type": "execute_result"
    }
   ],
   "source": [
    "a.shape"
   ]
  },
  {
   "cell_type": "code",
   "execution_count": 8,
   "id": "8a4f507f",
   "metadata": {},
   "outputs": [
    {
     "data": {
      "text/plain": [
       "(265, 400, 3)"
      ]
     },
     "execution_count": 8,
     "metadata": {},
     "output_type": "execute_result"
    }
   ],
   "source": [
    "a=imutils.resize(a,width=min(400,a.shape[1]))\n",
    "a.shape"
   ]
  },
  {
   "cell_type": "code",
   "execution_count": 40,
   "id": "7dc11367",
   "metadata": {
    "scrolled": true
   },
   "outputs": [
    {
     "data": {
      "text/plain": [
       "array([[174,  66,  88, 175]])"
      ]
     },
     "execution_count": 40,
     "metadata": {},
     "output_type": "execute_result"
    }
   ],
   "source": [
    "(regions,img)=hog.detectMultiScale(a,winStride=(1,1),padding=(40,40),scale=1.05)\n",
    "regions"
   ]
  },
  {
   "cell_type": "code",
   "execution_count": 41,
   "id": "e2c8941d",
   "metadata": {},
   "outputs": [],
   "source": [
    "for (x,y,w,h) in regions:\n",
    "    cv2.rectangle(a,(x,y),(x+w,y+h),(1,225,0),3)"
   ]
  },
  {
   "cell_type": "code",
   "execution_count": 42,
   "id": "574e3faf",
   "metadata": {},
   "outputs": [],
   "source": [
    "cv2.imshow(\"A\",a)\n",
    "cv2.waitKey(0)\n",
    "cv2.destroyAllWindows()"
   ]
  },
  {
   "cell_type": "code",
   "execution_count": null,
   "id": "0bc1fd5f",
   "metadata": {},
   "outputs": [],
   "source": []
  }
 ],
 "metadata": {
  "kernelspec": {
   "display_name": "Python 3 (ipykernel)",
   "language": "python",
   "name": "python3"
  },
  "language_info": {
   "codemirror_mode": {
    "name": "ipython",
    "version": 3
   },
   "file_extension": ".py",
   "mimetype": "text/x-python",
   "name": "python",
   "nbconvert_exporter": "python",
   "pygments_lexer": "ipython3",
   "version": "3.9.18"
  }
 },
 "nbformat": 4,
 "nbformat_minor": 5
}
