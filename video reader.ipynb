{
 "cells": [
  {
   "cell_type": "code",
   "execution_count": 13,
   "id": "4add5034",
   "metadata": {},
   "outputs": [],
   "source": [
    "import cv2 \n",
    "import numpy as np"
   ]
  },
  {
   "cell_type": "code",
   "execution_count": 14,
   "id": "4c63e58c",
   "metadata": {},
   "outputs": [],
   "source": [
    "view = cv2.VideoCapture(\"C:\\\\Users\\\\SYS76\\\\Downloads\\\\b7953f96-960a-4284-b503-5c3a8c6d9746-9d6e5843-02ef-4a7a-a17f-0c3b3722e8fe_w_v__a9fb3123-ab7a-4aa7-99f3-610a47b3b827.mp4\")"
   ]
  },
  {
   "cell_type": "code",
   "execution_count": 15,
   "id": "63cb0ce5",
   "metadata": {
    "scrolled": true
   },
   "outputs": [
    {
     "data": {
      "text/plain": [
       "< cv2.VideoCapture 0000027AED9929F0>"
      ]
     },
     "execution_count": 15,
     "metadata": {},
     "output_type": "execute_result"
    }
   ],
   "source": [
    "view"
   ]
  },
  {
   "cell_type": "code",
   "execution_count": 16,
   "id": "8751a129",
   "metadata": {},
   "outputs": [],
   "source": [
    "while(view.isOpened()):\n",
    "    ret,frame=view.read()\n",
    "    gray=cv2.cvtColor(frame,cv2.COLOR_BGR2GRAY)\n",
    "    cv2.imshow(\"Video\",frame)\n",
    "    cv2.imshow(\"Gray\",gray)\n",
    "    if cv2.waitKey(10) & 0xFF == ord(\"q\"):\n",
    "        break\n",
    "        \n",
    "view.release()\n",
    "cv2.destroyAllWindows()"
   ]
  },
  {
   "cell_type": "code",
   "execution_count": 12,
   "id": "4f4954eb",
   "metadata": {},
   "outputs": [],
   "source": [
    "fourcc =cv2.VideoWriter_fourcc(*'mp4v')"
   ]
  },
  {
   "cell_type": "code",
   "execution_count": null,
   "id": "3e99c374",
   "metadata": {},
   "outputs": [],
   "source": []
  }
 ],
 "metadata": {
  "kernelspec": {
   "display_name": "Python 3 (ipykernel)",
   "language": "python",
   "name": "python3"
  },
  "language_info": {
   "codemirror_mode": {
    "name": "ipython",
    "version": 3
   },
   "file_extension": ".py",
   "mimetype": "text/x-python",
   "name": "python",
   "nbconvert_exporter": "python",
   "pygments_lexer": "ipython3",
   "version": "3.9.18"
  }
 },
 "nbformat": 4,
 "nbformat_minor": 5
}
