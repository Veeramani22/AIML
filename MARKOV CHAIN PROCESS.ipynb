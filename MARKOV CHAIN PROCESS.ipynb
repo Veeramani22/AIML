{
 "cells": [
  {
   "cell_type": "code",
   "execution_count": null,
   "id": "e18a2538",
   "metadata": {},
   "outputs": [],
   "source": [
    "Imagine we have MR. Markov who is a foodie .but he cannot cook all by himself ,\n",
    "so he appointed a chief who needs to make sur he ssrves\n",
    "the best food that keepsmr . markov healthy . MR. MARKOV HAD A PIZZA FOR LUNCH \n",
    "TODAY THEN THE PROBABILITY THAT HE IS GOING TO HAVE A\n",
    "PIZZA TOMORROW IS 75% AND IS 25% PROBABLE THAT HE IS GOIMG TO HAVE VEGETABLES \n",
    "AND STEAK TOMORROW .SIMILARLY IF MR. MARKOV HAVE\n",
    "VEGETABLES AND STEAKS FOR LUNCH TODAY THEN HE IS 60% SURE THAT HE WILL HAVE THE\n",
    "SAME LUNCH TOMORROW AND 40% SURE THAT HE WILL HAVE A PIZZA....  \""
   ]
  },
  {
   "cell_type": "code",
   "execution_count": 1,
   "id": "90da047b",
   "metadata": {},
   "outputs": [],
   "source": [
    "from protopunica import*"
   ]
  },
  {
   "cell_type": "code",
   "execution_count": 2,
   "id": "460650c9",
   "metadata": {},
   "outputs": [],
   "source": [
    "import numpy as np"
   ]
  },
  {
   "cell_type": "code",
   "execution_count": 3,
   "id": "d3408f57",
   "metadata": {},
   "outputs": [],
   "source": [
    "start = DiscreteDistribution({\"Pizza\":1,\"Vegs\":0})"
   ]
  },
  {
   "cell_type": "code",
   "execution_count": 4,
   "id": "fcf1a4c0",
   "metadata": {},
   "outputs": [],
   "source": [
    "Transitions =ConditionalProbabilityTable([\n",
    "    [\"Pizza\",\"Pizza\",0.75],\n",
    "    [\"Pizza\",\"Vegs\",0.25],\n",
    "    [\"Vegs\",\"Vegs\",0.6],\n",
    "    [\"Vegs\",\"Pizza\",0.4]],\n",
    "    [start]\n",
    ")"
   ]
  },
  {
   "cell_type": "code",
   "execution_count": 5,
   "id": "2257c328",
   "metadata": {},
   "outputs": [],
   "source": [
    "Model=MarkovChain([start,Transitions])"
   ]
  },
  {
   "cell_type": "code",
   "execution_count": 6,
   "id": "b4c98f43",
   "metadata": {},
   "outputs": [],
   "source": [
    "Random_samples=Model.sample(3)"
   ]
  },
  {
   "cell_type": "code",
   "execution_count": 7,
   "id": "41c2096d",
   "metadata": {},
   "outputs": [
    {
     "name": "stdout",
     "output_type": "stream",
     "text": [
      "['Pizza', 'Pizza', 'Pizza']\n"
     ]
    }
   ],
   "source": [
    "print(Random_samples)"
   ]
  },
  {
   "cell_type": "code",
   "execution_count": 8,
   "id": "fb9e5098",
   "metadata": {},
   "outputs": [],
   "source": [
    "Log_probability=Model.log_probability(Random_samples)"
   ]
  },
  {
   "cell_type": "code",
   "execution_count": 9,
   "id": "a2f3541f",
   "metadata": {},
   "outputs": [],
   "source": [
    "Probability_of_occurance=np.exp(Log_probability)"
   ]
  },
  {
   "cell_type": "code",
   "execution_count": 10,
   "id": "714f0979",
   "metadata": {},
   "outputs": [
    {
     "data": {
      "text/plain": [
       "0.5625"
      ]
     },
     "execution_count": 10,
     "metadata": {},
     "output_type": "execute_result"
    }
   ],
   "source": [
    "Probability_of_occurance"
   ]
  },
  {
   "cell_type": "code",
   "execution_count": 14,
   "id": "d5a31de5",
   "metadata": {},
   "outputs": [],
   "source": [
    "Log_probability_food_Sequence=Model.log_probability([\"Pizza\",\"Vegs\",\"Vegs\"])"
   ]
  },
  {
   "cell_type": "code",
   "execution_count": 15,
   "id": "de0c8de9",
   "metadata": {},
   "outputs": [],
   "source": [
    "Probability_of_food=np.exp(Log_probability_food_Sequence)"
   ]
  },
  {
   "cell_type": "code",
   "execution_count": 17,
   "id": "99a94b31",
   "metadata": {},
   "outputs": [
    {
     "name": "stdout",
     "output_type": "stream",
     "text": [
      "0.15\n"
     ]
    }
   ],
   "source": [
    "print(Probability_of_food)"
   ]
  },
  {
   "cell_type": "code",
   "execution_count": null,
   "id": "e54b9c3e",
   "metadata": {},
   "outputs": [],
   "source": []
  }
 ],
 "metadata": {
  "kernelspec": {
   "display_name": "Python 3 (ipykernel)",
   "language": "python",
   "name": "python3"
  },
  "language_info": {
   "codemirror_mode": {
    "name": "ipython",
    "version": 3
   },
   "file_extension": ".py",
   "mimetype": "text/x-python",
   "name": "python",
   "nbconvert_exporter": "python",
   "pygments_lexer": "ipython3",
   "version": "3.9.18"
  }
 },
 "nbformat": 4,
 "nbformat_minor": 5
}
