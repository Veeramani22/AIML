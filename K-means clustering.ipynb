{
 "cells": [
  {
   "cell_type": "code",
   "execution_count": 1,
   "id": "bc55daed",
   "metadata": {},
   "outputs": [],
   "source": [
    "import cv2 \n",
    "import numpy as np\n"
   ]
  },
  {
   "cell_type": "code",
   "execution_count": 2,
   "id": "158d82b4",
   "metadata": {},
   "outputs": [],
   "source": [
    "img=cv2.imread(\"C:\\\\Users\\\\SYS76\\\\Downloads\\\\download.jfif\")"
   ]
  },
  {
   "cell_type": "code",
   "execution_count": 3,
   "id": "ef22dcb7",
   "metadata": {},
   "outputs": [],
   "source": [
    "imgrgb=cv2.cvtColor(img,cv2.COLOR_BGR2RGB)"
   ]
  },
  {
   "cell_type": "code",
   "execution_count": 4,
   "id": "2c3a31ab",
   "metadata": {},
   "outputs": [
    {
     "data": {
      "text/plain": [
       "array([[164, 101,  48],\n",
       "       [164, 101,  48],\n",
       "       [167, 102,  48],\n",
       "       ...,\n",
       "       [106,  97,  88],\n",
       "       [ 99,  86,  77],\n",
       "       [105,  93,  81]], dtype=uint8)"
      ]
     },
     "execution_count": 4,
     "metadata": {},
     "output_type": "execute_result"
    }
   ],
   "source": [
    "vec = imgrgb.reshape((-1,3))\n",
    "vec"
   ]
  },
  {
   "cell_type": "code",
   "execution_count": 5,
   "id": "19b278bf",
   "metadata": {},
   "outputs": [
    {
     "data": {
      "text/plain": [
       "array([[164., 101.,  48.],\n",
       "       [164., 101.,  48.],\n",
       "       [167., 102.,  48.],\n",
       "       ...,\n",
       "       [106.,  97.,  88.],\n",
       "       [ 99.,  86.,  77.],\n",
       "       [105.,  93.,  81.]], dtype=float32)"
      ]
     },
     "execution_count": 5,
     "metadata": {},
     "output_type": "execute_result"
    }
   ],
   "source": [
    "vec=np.float32(vec)\n",
    "vec"
   ]
  },
  {
   "cell_type": "code",
   "execution_count": 6,
   "id": "0ec52cd3",
   "metadata": {},
   "outputs": [],
   "source": [
    "criteria = (cv2.TERM_CRITERIA_EPS+cv2.TERM_CRITERIA_MAX_ITER,100,1)"
   ]
  },
  {
   "cell_type": "code",
   "execution_count": 7,
   "id": "2a8cb2f2",
   "metadata": {},
   "outputs": [],
   "source": [
    "k=3\n",
    "attempts=100"
   ]
  },
  {
   "cell_type": "code",
   "execution_count": 8,
   "id": "aca6dd62",
   "metadata": {},
   "outputs": [],
   "source": [
    "compactness,label,center=cv2.kmeans(vec,k,None,criteria,attempts,cv2.KMEANS_PP_CENTERS)"
   ]
  },
  {
   "cell_type": "code",
   "execution_count": 9,
   "id": "cbceac24",
   "metadata": {},
   "outputs": [
    {
     "data": {
      "text/plain": [
       "array([[206, 140,  74],\n",
       "       [ 70,  61,  56],\n",
       "       [213, 202, 190]], dtype=uint8)"
      ]
     },
     "execution_count": 9,
     "metadata": {},
     "output_type": "execute_result"
    }
   ],
   "source": [
    "center = np.uint8(center)\n",
    "center"
   ]
  },
  {
   "cell_type": "code",
   "execution_count": 10,
   "id": "d236e85b",
   "metadata": {},
   "outputs": [
    {
     "data": {
      "text/plain": [
       "array([[[206, 140,  74],\n",
       "        [206, 140,  74],\n",
       "        [206, 140,  74],\n",
       "        ...,\n",
       "        [206, 140,  74],\n",
       "        [206, 140,  74],\n",
       "        [206, 140,  74]],\n",
       "\n",
       "       [[206, 140,  74],\n",
       "        [206, 140,  74],\n",
       "        [206, 140,  74],\n",
       "        ...,\n",
       "        [206, 140,  74],\n",
       "        [206, 140,  74],\n",
       "        [206, 140,  74]],\n",
       "\n",
       "       [[206, 140,  74],\n",
       "        [206, 140,  74],\n",
       "        [206, 140,  74],\n",
       "        ...,\n",
       "        [206, 140,  74],\n",
       "        [206, 140,  74],\n",
       "        [206, 140,  74]],\n",
       "\n",
       "       ...,\n",
       "\n",
       "       [[ 70,  61,  56],\n",
       "        [ 70,  61,  56],\n",
       "        [ 70,  61,  56],\n",
       "        ...,\n",
       "        [ 70,  61,  56],\n",
       "        [ 70,  61,  56],\n",
       "        [ 70,  61,  56]],\n",
       "\n",
       "       [[ 70,  61,  56],\n",
       "        [ 70,  61,  56],\n",
       "        [ 70,  61,  56],\n",
       "        ...,\n",
       "        [ 70,  61,  56],\n",
       "        [206, 140,  74],\n",
       "        [ 70,  61,  56]],\n",
       "\n",
       "       [[ 70,  61,  56],\n",
       "        [ 70,  61,  56],\n",
       "        [ 70,  61,  56],\n",
       "        ...,\n",
       "        [ 70,  61,  56],\n",
       "        [ 70,  61,  56],\n",
       "        [ 70,  61,  56]]], dtype=uint8)"
      ]
     },
     "execution_count": 10,
     "metadata": {},
     "output_type": "execute_result"
    }
   ],
   "source": [
    "res=center[label.flatten()]\n",
    "res_img=res.reshape((imgrgb.shape))\n",
    "res_img"
   ]
  },
  {
   "cell_type": "code",
   "execution_count": 11,
   "id": "3b74a1b0",
   "metadata": {},
   "outputs": [],
   "source": [
    "cv2.imshow(\"Orginal\",img)\n",
    "cv2.imshow(\"Segmented\",res_img)\n",
    "cv2.waitKey(0)\n",
    "cv2.destroyAllWindows()"
   ]
  },
  {
   "cell_type": "markdown",
   "id": "ba6df4e5",
   "metadata": {},
   "source": [
    "# pyrmean\n",
    "\n"
   ]
  },
  {
   "cell_type": "code",
   "execution_count": 12,
   "id": "e4ac213a",
   "metadata": {},
   "outputs": [],
   "source": [
    "import cv2\n",
    "import numpy as np"
   ]
  },
  {
   "cell_type": "code",
   "execution_count": 13,
   "id": "06305867",
   "metadata": {},
   "outputs": [],
   "source": [
    "image=cv2.imread(\"C:\\\\Users\\\\SYS76\\\\Downloads\\\\download.jfif\")"
   ]
  },
  {
   "cell_type": "code",
   "execution_count": 18,
   "id": "64cdfa6f",
   "metadata": {},
   "outputs": [],
   "source": [
    "segmented_img=cv2.pyrMeanShiftFiltering(image,40,50)"
   ]
  },
  {
   "cell_type": "code",
   "execution_count": null,
   "id": "d18d8c39",
   "metadata": {},
   "outputs": [],
   "source": [
    "cv2.imshow(\"Orginal_Image\",img)\n",
    "cv2.imshow(\"Segmented_Image\",segmented_img)\n",
    "cv2.waitKey(0)\n",
    "cv2.destroyAllWindows()"
   ]
  },
  {
   "cell_type": "code",
   "execution_count": null,
   "id": "7765d113",
   "metadata": {},
   "outputs": [],
   "source": []
  }
 ],
 "metadata": {
  "kernelspec": {
   "display_name": "Python 3 (ipykernel)",
   "language": "python",
   "name": "python3"
  },
  "language_info": {
   "codemirror_mode": {
    "name": "ipython",
    "version": 3
   },
   "file_extension": ".py",
   "mimetype": "text/x-python",
   "name": "python",
   "nbconvert_exporter": "python",
   "pygments_lexer": "ipython3",
   "version": "3.9.18"
  }
 },
 "nbformat": 4,
 "nbformat_minor": 5
}
