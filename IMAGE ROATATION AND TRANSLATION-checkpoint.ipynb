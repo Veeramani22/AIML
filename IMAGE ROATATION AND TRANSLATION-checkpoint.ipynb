{
 "cells": [
  {
   "cell_type": "markdown",
   "id": "dbbb36c1",
   "metadata": {},
   "source": [
    "IMAGE ROATATION AND TRANSLATION"
   ]
  },
  {
   "cell_type": "code",
   "execution_count": 1,
   "id": "2af3cc20",
   "metadata": {},
   "outputs": [],
   "source": [
    "import cv2\n",
    "import numpy as np"
   ]
  },
  {
   "cell_type": "code",
   "execution_count": 2,
   "id": "ed210a13",
   "metadata": {},
   "outputs": [],
   "source": [
    "a=cv2.imread(\"C:\\\\Users\\\\pmu\\\\Downloads\\\\cow.jpg\")"
   ]
  },
  {
   "cell_type": "code",
   "execution_count": 3,
   "id": "c6d192a3",
   "metadata": {},
   "outputs": [
    {
     "data": {
      "text/plain": [
       "array([[[ 35,  69,  52],\n",
       "        [ 21,  57,  40],\n",
       "        [ 20,  58,  40],\n",
       "        ...,\n",
       "        [ 32,  68,  52],\n",
       "        [ 35,  71,  54],\n",
       "        [ 33,  69,  52]],\n",
       "\n",
       "       [[ 18,  52,  35],\n",
       "        [ 17,  53,  36],\n",
       "        [ 21,  61,  43],\n",
       "        ...,\n",
       "        [ 28,  65,  49],\n",
       "        [ 31,  69,  51],\n",
       "        [ 35,  73,  55]],\n",
       "\n",
       "       [[ 10,  44,  27],\n",
       "        [ 21,  57,  40],\n",
       "        [ 31,  71,  53],\n",
       "        ...,\n",
       "        [ 33,  72,  56],\n",
       "        [ 32,  71,  55],\n",
       "        [ 35,  74,  58]],\n",
       "\n",
       "       ...,\n",
       "\n",
       "       [[123, 173, 149],\n",
       "        [134, 180, 157],\n",
       "        [138, 177, 155],\n",
       "        ...,\n",
       "        [ 57, 105,  87],\n",
       "        [ 43,  94,  74],\n",
       "        [ 45,  96,  76]],\n",
       "\n",
       "       [[ 97, 164, 135],\n",
       "        [117, 181, 151],\n",
       "        [131, 188, 157],\n",
       "        ...,\n",
       "        [104, 156, 139],\n",
       "        [ 87, 139, 121],\n",
       "        [ 62, 118,  97]],\n",
       "\n",
       "       [[ 98, 173, 141],\n",
       "        [126, 197, 164],\n",
       "        [143, 207, 172],\n",
       "        ...,\n",
       "        [112, 169, 154],\n",
       "        [102, 161, 141],\n",
       "        [ 68, 129, 109]]], dtype=uint8)"
      ]
     },
     "execution_count": 3,
     "metadata": {},
     "output_type": "execute_result"
    }
   ],
   "source": [
    "a"
   ]
  },
  {
   "cell_type": "code",
   "execution_count": 4,
   "id": "5a97b938",
   "metadata": {},
   "outputs": [
    {
     "name": "stdout",
     "output_type": "stream",
     "text": [
      "(667, 1000, 3)\n"
     ]
    }
   ],
   "source": [
    "shp=a.shape\n",
    "print(shp)"
   ]
  },
  {
   "cell_type": "code",
   "execution_count": 5,
   "id": "3588a6fc",
   "metadata": {},
   "outputs": [
    {
     "name": "stdout",
     "output_type": "stream",
     "text": [
      "667\n",
      "1000\n"
     ]
    }
   ],
   "source": [
    "height,width=a.shape[:2]\n",
    "print(height)\n",
    "print(width)\n"
   ]
  },
  {
   "cell_type": "code",
   "execution_count": 6,
   "id": "6715c540",
   "metadata": {},
   "outputs": [
    {
     "data": {
      "text/plain": [
       "(333.5, 500.0)"
      ]
     },
     "execution_count": 6,
     "metadata": {},
     "output_type": "execute_result"
    }
   ],
   "source": [
    "cent=(height/2,width/2)\n",
    "cent"
   ]
  },
  {
   "cell_type": "code",
   "execution_count": 7,
   "id": "cbfece16",
   "metadata": {},
   "outputs": [],
   "source": [
    "rotation_matrix=cv2.getRotationMatrix2D(center=cent,angle=75,scale=00.5)"
   ]
  },
  {
   "cell_type": "code",
   "execution_count": 8,
   "id": "f86c934b",
   "metadata": {},
   "outputs": [
    {
     "name": "stdout",
     "output_type": "stream",
     "text": [
      "[[ 1.29409523e-01  4.82962913e-01  4.88604677e+01]\n",
      " [-4.82962913e-01  1.29409523e-01  5.96363370e+02]]\n"
     ]
    }
   ],
   "source": [
    "print(rotation_matrix)"
   ]
  },
  {
   "cell_type": "code",
   "execution_count": 9,
   "id": "993d3a09",
   "metadata": {},
   "outputs": [],
   "source": [
    "rotation_im=cv2.warpAffine(src=a,M=rotation_matrix,dsize=(width,height))\n"
   ]
  },
  {
   "cell_type": "code",
   "execution_count": 10,
   "id": "ffc15016",
   "metadata": {},
   "outputs": [],
   "source": [
    "cv2.imshow(\"Original image\",a)\n",
    "cv2.waitKey(0)\n",
    "cv2.imshow(\"Rotation image\",rotation_im)\n",
    "cv2.waitKey(0)\n",
    "cv2.destroyAllWindows()"
   ]
  },
  {
   "cell_type": "markdown",
   "id": "85829037",
   "metadata": {},
   "source": [
    "# translation matrix"
   ]
  },
  {
   "cell_type": "code",
   "execution_count": 38,
   "id": "f78b4da2",
   "metadata": {},
   "outputs": [],
   "source": [
    "tx,ty=width/2,height/2"
   ]
  },
  {
   "cell_type": "code",
   "execution_count": 39,
   "id": "68834cee",
   "metadata": {},
   "outputs": [
    {
     "data": {
      "text/plain": [
       "500.0"
      ]
     },
     "execution_count": 39,
     "metadata": {},
     "output_type": "execute_result"
    }
   ],
   "source": [
    "tx"
   ]
  },
  {
   "cell_type": "code",
   "execution_count": 42,
   "id": "daef12f6",
   "metadata": {},
   "outputs": [],
   "source": [
    "Translation_matrix=np.array([[1,0,tx],[0,1,ty]])"
   ]
  },
  {
   "cell_type": "code",
   "execution_count": 43,
   "id": "95ec16dd",
   "metadata": {},
   "outputs": [
    {
     "data": {
      "text/plain": [
       "array([[  1. ,   0. , 500. ],\n",
       "       [  0. ,   1. , 333.5]])"
      ]
     },
     "execution_count": 43,
     "metadata": {},
     "output_type": "execute_result"
    }
   ],
   "source": [
    "Translation_matrix"
   ]
  },
  {
   "cell_type": "code",
   "execution_count": 44,
   "id": "da3140bf",
   "metadata": {},
   "outputs": [],
   "source": [
    "Trans_im=cv2.warpAffine(src=a,M=rotation_matrix,dsize=(width,height))"
   ]
  },
  {
   "cell_type": "code",
   "execution_count": 45,
   "id": "c4087054",
   "metadata": {},
   "outputs": [],
   "source": [
    "cv2.imshow(\"Original image\",a)\n",
    "cv2.waitKey(0)\n",
    "cv2.imshow(\"Translation image\",Trans_im)\n",
    "cv2.waitKey(0)\n",
    "cv2.destroyAllWindows()"
   ]
  },
  {
   "cell_type": "code",
   "execution_count": null,
   "id": "ae3a7fcb",
   "metadata": {},
   "outputs": [],
   "source": []
  }
 ],
 "metadata": {
  "kernelspec": {
   "display_name": "Python 3 (ipykernel)",
   "language": "python",
   "name": "python3"
  },
  "language_info": {
   "codemirror_mode": {
    "name": "ipython",
    "version": 3
   },
   "file_extension": ".py",
   "mimetype": "text/x-python",
   "name": "python",
   "nbconvert_exporter": "python",
   "pygments_lexer": "ipython3",
   "version": "3.9.18"
  }
 },
 "nbformat": 4,
 "nbformat_minor": 5
}
