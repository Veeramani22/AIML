{
 "cells": [
  {
   "cell_type": "code",
   "execution_count": 6,
   "id": "410a13f0",
   "metadata": {},
   "outputs": [],
   "source": [
    "import cv2\n",
    "import numpy as np"
   ]
  },
  {
   "cell_type": "code",
   "execution_count": 7,
   "id": "af13a486",
   "metadata": {},
   "outputs": [],
   "source": [
    "vid =cv2.VideoCapture(0)"
   ]
  },
  {
   "cell_type": "code",
   "execution_count": 8,
   "id": "cfa1e3ee",
   "metadata": {},
   "outputs": [],
   "source": [
    "while(True):\n",
    "    ret,frame=vid.read()\n",
    "    gray=cv2.cvtColor(frame,cv2.COLOR_BGR2GRAY)\n",
    "    cv2.imshow(\"Video\",frame)\n",
    "    cv2.imshow(\"Gray\",gray)\n",
    "    if cv2.waitKey(10) & 0xFF == ord(\"q\"):\n",
    "        break\n",
    "        \n",
    "vid.release()\n",
    "cv2.destroyAllWindows()"
   ]
  },
  {
   "cell_type": "markdown",
   "id": "a311ce8a",
   "metadata": {},
   "source": [
    "# SAVING VIDEO\n"
   ]
  },
  {
   "cell_type": "code",
   "execution_count": 25,
   "id": "1387a420",
   "metadata": {},
   "outputs": [],
   "source": [
    "vid =cv2.VideoCapture(\"C:\\\\Users\\\\SYS76\\\\Downloads\\\\b7953f96-960a-4284-b503-5c3a8c6d9746-9d6e5843-02ef-4a7a-a17f-0c3b3722e8fe_w_v__a9fb3123-ab7a-4aa7-99f3-610a47b3b827.mp4\")"
   ]
  },
  {
   "cell_type": "code",
   "execution_count": 26,
   "id": "d94f8e7c",
   "metadata": {},
   "outputs": [],
   "source": [
    "fourcc =cv2.VideoWriter_fourcc(*'mp4v')"
   ]
  },
  {
   "cell_type": "code",
   "execution_count": 27,
   "id": "9669f5d9",
   "metadata": {},
   "outputs": [],
   "source": [
    "wrt=cv2.VideoWriter(\"C:\\\\Users\\\\SYS76\\\\Documents\\\\me1.m\",fourcc,50.0,(640,480))\n",
    "while(vid.isOpened()):\n",
    "    ret,frame=vid.read()\n",
    "    gray=cv2.cvtColor(frame,cv2.COLOR_BGR2GRAY)\n",
    "    cv2.imshow(\"Video\",frame)\n",
    "    cv2.imshow(\"Gray\",gray)\n",
    "    if cv2.waitKey(10) & 0xFF == ord(\"e\"):\n",
    "        break\n",
    "        \n",
    "vid.release()\n",
    "cv2.destroyAllWindows()"
   ]
  },
  {
   "cell_type": "code",
   "execution_count": null,
   "id": "f49179db",
   "metadata": {},
   "outputs": [],
   "source": []
  }
 ],
 "metadata": {
  "kernelspec": {
   "display_name": "Python 3 (ipykernel)",
   "language": "python",
   "name": "python3"
  },
  "language_info": {
   "codemirror_mode": {
    "name": "ipython",
    "version": 3
   },
   "file_extension": ".py",
   "mimetype": "text/x-python",
   "name": "python",
   "nbconvert_exporter": "python",
   "pygments_lexer": "ipython3",
   "version": "3.9.18"
  }
 },
 "nbformat": 4,
 "nbformat_minor": 5
}
