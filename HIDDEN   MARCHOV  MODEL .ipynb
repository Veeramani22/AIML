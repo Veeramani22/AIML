{
 "cells": [
  {
   "cell_type": "code",
   "execution_count": null,
   "id": "523b8dfa",
   "metadata": {},
   "outputs": [],
   "source": [
    "IN OUR PROBLEM WE HAVE OUR POOR PRISONER WHO IS STUCK IN A PRISON ... AS THE STORY SAYS ...\n",
    "THIS PRISON IS COMPLETELY ISOLATED FROM THE REST OF THE WORLD.. AND ONE CANNOT EVEN SEE THE SKY ..\n",
    "IN SUCH SCENARIO OUR PRISONER HAS BEEN IN THE PRISON FOR 2 YEARS NOW ... THE FUNNY THING IS THAT\n",
    "THERE IS AN INCHARGE WHO TAKES CARE OF ALL THE PRISONERS.. SO THE INCHARGE WEARS A HAT IF ITS SUUNY \n",
    "AND WAERS A RAINY...SINCE THE PRISONER HAS NO ACCESS TO OPEN SPACES.. HE CAN ONLY DEDUCE THE WEATHER BY \n",
    "CHECKING WHAT THE INCHARGE CAME IN EVERYDAY... IS IT A RAINCOAT OR A HAT...."
   ]
  },
  {
   "cell_type": "code",
   "execution_count": 33,
   "id": "81e8c284",
   "metadata": {},
   "outputs": [
    {
     "name": "stdout",
     "output_type": "stream",
     "text": [
      "Collecting pandas\n",
      "  Obtaining dependency information for pandas from https://files.pythonhosted.org/packages/3f/7a/8ecafdb6a6990ad90f0366a8d7356e9d62118ce832c38ca4fe6136a5e207/pandas-2.1.2-cp39-cp39-win_amd64.whl.metadata\n",
      "  Downloading pandas-2.1.2-cp39-cp39-win_amd64.whl.metadata (18 kB)\n",
      "Requirement already satisfied: numpy<2,>=1.22.4 in c:\\users\\sys76\\anaconda3\\envs\\veeramani891aiml\\lib\\site-packages (from pandas) (1.26.0)\n",
      "Requirement already satisfied: python-dateutil>=2.8.2 in c:\\users\\sys76\\anaconda3\\envs\\veeramani891aiml\\lib\\site-packages (from pandas) (2.8.2)\n",
      "Collecting pytz>=2020.1 (from pandas)\n",
      "  Obtaining dependency information for pytz>=2020.1 from https://files.pythonhosted.org/packages/32/4d/aaf7eff5deb402fd9a24a1449a8119f00d74ae9c2efa79f8ef9994261fc2/pytz-2023.3.post1-py2.py3-none-any.whl.metadata\n",
      "  Downloading pytz-2023.3.post1-py2.py3-none-any.whl.metadata (22 kB)\n",
      "Collecting tzdata>=2022.1 (from pandas)\n",
      "  Downloading tzdata-2023.3-py2.py3-none-any.whl (341 kB)\n",
      "     ---------------------------------------- 0.0/341.8 kB ? eta -:--:--\n",
      "     ------------ ------------------------- 112.6/341.8 kB 3.3 MB/s eta 0:00:01\n",
      "     -------------------------------------  337.9/341.8 kB 4.2 MB/s eta 0:00:01\n",
      "     -------------------------------------- 341.8/341.8 kB 2.7 MB/s eta 0:00:00\n",
      "Requirement already satisfied: six>=1.5 in c:\\users\\sys76\\anaconda3\\envs\\veeramani891aiml\\lib\\site-packages (from python-dateutil>=2.8.2->pandas) (1.16.0)\n",
      "Downloading pandas-2.1.2-cp39-cp39-win_amd64.whl (10.8 MB)\n",
      "   ---------------------------------------- 0.0/10.8 MB ? eta -:--:--\n",
      "   - -------------------------------------- 0.4/10.8 MB 12.9 MB/s eta 0:00:01\n",
      "   -- ------------------------------------- 0.8/10.8 MB 9.7 MB/s eta 0:00:02\n",
      "   ---- ----------------------------------- 1.2/10.8 MB 9.8 MB/s eta 0:00:01\n",
      "   ----- ---------------------------------- 1.6/10.8 MB 9.0 MB/s eta 0:00:02\n",
      "   ------- -------------------------------- 2.0/10.8 MB 8.9 MB/s eta 0:00:01\n",
      "   -------- ------------------------------- 2.4/10.8 MB 8.9 MB/s eta 0:00:01\n",
      "   ---------- ----------------------------- 2.8/10.8 MB 8.8 MB/s eta 0:00:01\n",
      "   ----------- ---------------------------- 3.2/10.8 MB 8.8 MB/s eta 0:00:01\n",
      "   ------------ --------------------------- 3.4/10.8 MB 8.7 MB/s eta 0:00:01\n",
      "   ------------- -------------------------- 3.7/10.8 MB 8.2 MB/s eta 0:00:01\n",
      "   --------------- ------------------------ 4.1/10.8 MB 8.2 MB/s eta 0:00:01\n",
      "   ---------------- ----------------------- 4.5/10.8 MB 8.3 MB/s eta 0:00:01\n",
      "   ------------------ --------------------- 4.9/10.8 MB 8.3 MB/s eta 0:00:01\n",
      "   ------------------- -------------------- 5.3/10.8 MB 8.3 MB/s eta 0:00:01\n",
      "   --------------------- ------------------ 5.7/10.8 MB 8.3 MB/s eta 0:00:01\n",
      "   ---------------------- ----------------- 6.1/10.8 MB 8.3 MB/s eta 0:00:01\n",
      "   ------------------------ --------------- 6.5/10.8 MB 8.4 MB/s eta 0:00:01\n",
      "   ------------------------- -------------- 6.9/10.8 MB 8.4 MB/s eta 0:00:01\n",
      "   --------------------------- ------------ 7.3/10.8 MB 8.2 MB/s eta 0:00:01\n",
      "   ---------------------------- ----------- 7.7/10.8 MB 8.4 MB/s eta 0:00:01\n",
      "   ------------------------------ --------- 8.2/10.8 MB 8.4 MB/s eta 0:00:01\n",
      "   ------------------------------- -------- 8.6/10.8 MB 8.4 MB/s eta 0:00:01\n",
      "   --------------------------------- ------ 9.0/10.8 MB 8.4 MB/s eta 0:00:01\n",
      "   ---------------------------------- ----- 9.4/10.8 MB 8.4 MB/s eta 0:00:01\n",
      "   ------------------------------------ --- 9.8/10.8 MB 8.4 MB/s eta 0:00:01\n",
      "   ------------------------------------- -- 10.2/10.8 MB 8.4 MB/s eta 0:00:01\n",
      "   ---------------------------------------  10.6/10.8 MB 8.3 MB/s eta 0:00:01\n",
      "   ---------------------------------------  10.8/10.8 MB 8.4 MB/s eta 0:00:01\n",
      "   ---------------------------------------  10.8/10.8 MB 8.4 MB/s eta 0:00:01\n",
      "   ---------------------------------------  10.8/10.8 MB 8.4 MB/s eta 0:00:01\n",
      "   ---------------------------------------- 10.8/10.8 MB 7.5 MB/s eta 0:00:00\n",
      "Downloading pytz-2023.3.post1-py2.py3-none-any.whl (502 kB)\n",
      "   ---------------------------------------- 0.0/502.5 kB ? eta -:--:--\n",
      "   ------------------------------------ -- 471.0/502.5 kB 14.9 MB/s eta 0:00:01\n",
      "   ---------------------------------------- 502.5/502.5 kB 6.3 MB/s eta 0:00:00\n",
      "Installing collected packages: pytz, tzdata, pandas\n",
      "Successfully installed pandas-2.1.2 pytz-2023.3.post1 tzdata-2023.3\n",
      "Note: you may need to restart the kernel to use updated packages.\n"
     ]
    }
   ],
   "source": [
    "pip install pandas"
   ]
  },
  {
   "cell_type": "code",
   "execution_count": 67,
   "id": "279ab8b9",
   "metadata": {},
   "outputs": [],
   "source": [
    "from protopunica import *\n",
    "import pandas as pd"
   ]
  },
  {
   "cell_type": "code",
   "execution_count": 68,
   "id": "baeef883",
   "metadata": {},
   "outputs": [],
   "source": [
    "sunny = DiscreteDistribution ({\"raincoat\":0.1,\"hat\":0.9})\n",
    "rainy = DiscreteDistribution ({\"raincoat\":0.7,\"hat\":0.3})"
   ]
  },
  {
   "cell_type": "code",
   "execution_count": 69,
   "id": "92f37fd0",
   "metadata": {},
   "outputs": [],
   "source": [
    "states=[sunny,rainy]"
   ]
  },
  {
   "cell_type": "code",
   "execution_count": 70,
   "id": "832f2559",
   "metadata": {},
   "outputs": [],
   "source": [
    "transition_model=numpy.array([[0.7,0.3,],[0.4,0.6]])"
   ]
  },
  {
   "cell_type": "code",
   "execution_count": 71,
   "id": "02860839",
   "metadata": {},
   "outputs": [],
   "source": [
    "Initial_state = numpy.array([0.3,0.7])"
   ]
  },
  {
   "cell_type": "code",
   "execution_count": 72,
   "id": "ee70687a",
   "metadata": {},
   "outputs": [],
   "source": [
    "model=HiddenMarkovModel.from_matrix(transition_model,states,Initial_state,state_names =[\"sunny\",\"rainy\"])"
   ]
  },
  {
   "cell_type": "code",
   "execution_count": 73,
   "id": "7976b6c2",
   "metadata": {},
   "outputs": [],
   "source": [
    "model.bake()"
   ]
  },
  {
   "cell_type": "code",
   "execution_count": 74,
   "id": "51ab60c9",
   "metadata": {},
   "outputs": [],
   "source": [
    "observations=[\"hat\",\"hat\",\"raincoat\",\"raincoat\",\"hat\",\"raincoat\"]"
   ]
  },
  {
   "cell_type": "code",
   "execution_count": 75,
   "id": "ab60142f",
   "metadata": {},
   "outputs": [],
   "source": [
    "predictions=model.predict(observations)"
   ]
  },
  {
   "cell_type": "code",
   "execution_count": 76,
   "id": "d103cedd",
   "metadata": {},
   "outputs": [
    {
     "data": {
      "text/plain": [
       "[1, 1, 0, 0, 1, 0]"
      ]
     },
     "execution_count": 76,
     "metadata": {},
     "output_type": "execute_result"
    }
   ],
   "source": [
    "predictions"
   ]
  },
  {
   "cell_type": "code",
   "execution_count": 77,
   "id": "1f051be6",
   "metadata": {},
   "outputs": [
    {
     "data": {
      "text/plain": [
       "{\n",
       "    \"class\" : \"HiddenMarkovModel\",\n",
       "    \"name\" : \"None\",\n",
       "    \"start\" : {\n",
       "        \"class\" : \"State\",\n",
       "        \"distribution\" : null,\n",
       "        \"name\" : \"None-start\",\n",
       "        \"weight\" : 1.0\n",
       "    },\n",
       "    \"end\" : {\n",
       "        \"class\" : \"State\",\n",
       "        \"distribution\" : null,\n",
       "        \"name\" : \"None-end\",\n",
       "        \"weight\" : 1.0\n",
       "    },\n",
       "    \"states\" : [\n",
       "        {\n",
       "            \"class\" : \"State\",\n",
       "            \"distribution\" : {\n",
       "                \"class\" : \"Distribution\",\n",
       "                \"dtype\" : \"str\",\n",
       "                \"name\" : \"DiscreteDistribution\",\n",
       "                \"parameters\" : [\n",
       "                    {\n",
       "                        \"raincoat\" : 0.7,\n",
       "                        \"hat\" : 0.3\n",
       "                    }\n",
       "                ],\n",
       "                \"frozen\" : false\n",
       "            },\n",
       "            \"name\" : \"rainy\",\n",
       "            \"weight\" : 1.0\n",
       "        },\n",
       "        {\n",
       "            \"class\" : \"State\",\n",
       "            \"distribution\" : {\n",
       "                \"class\" : \"Distribution\",\n",
       "                \"dtype\" : \"str\",\n",
       "                \"name\" : \"DiscreteDistribution\",\n",
       "                \"parameters\" : [\n",
       "                    {\n",
       "                        \"raincoat\" : 0.1,\n",
       "                        \"hat\" : 0.9\n",
       "                    }\n",
       "                ],\n",
       "                \"frozen\" : false\n",
       "            },\n",
       "            \"name\" : \"sunny\",\n",
       "            \"weight\" : 1.0\n",
       "        },\n",
       "        {\n",
       "            \"class\" : \"State\",\n",
       "            \"distribution\" : null,\n",
       "            \"name\" : \"None-start\",\n",
       "            \"weight\" : 1.0\n",
       "        },\n",
       "        {\n",
       "            \"class\" : \"State\",\n",
       "            \"distribution\" : null,\n",
       "            \"name\" : \"None-end\",\n",
       "            \"weight\" : 1.0\n",
       "        }\n",
       "    ],\n",
       "    \"end_index\" : 3,\n",
       "    \"start_index\" : 2,\n",
       "    \"silent_index\" : 2,\n",
       "    \"edges\" : [\n",
       "        [\n",
       "            2,\n",
       "            1,\n",
       "            0.3,\n",
       "            0.3,\n",
       "            null\n",
       "        ],\n",
       "        [\n",
       "            2,\n",
       "            0,\n",
       "            0.7,\n",
       "            0.7,\n",
       "            null\n",
       "        ],\n",
       "        [\n",
       "            1,\n",
       "            1,\n",
       "            0.7,\n",
       "            0.7,\n",
       "            null\n",
       "        ],\n",
       "        [\n",
       "            1,\n",
       "            0,\n",
       "            0.3,\n",
       "            0.3,\n",
       "            null\n",
       "        ],\n",
       "        [\n",
       "            0,\n",
       "            1,\n",
       "            0.4,\n",
       "            0.4,\n",
       "            null\n",
       "        ],\n",
       "        [\n",
       "            0,\n",
       "            0,\n",
       "            0.6,\n",
       "            0.6,\n",
       "            null\n",
       "        ]\n",
       "    ],\n",
       "    \"distribution ties\" : []\n",
       "}"
      ]
     },
     "execution_count": 77,
     "metadata": {},
     "output_type": "execute_result"
    }
   ],
   "source": [
    "model"
   ]
  },
  {
   "cell_type": "code",
   "execution_count": 78,
   "id": "b5a5f78b",
   "metadata": {},
   "outputs": [
    {
     "name": "stdout",
     "output_type": "stream",
     "text": [
      "sunny\n",
      "sunny\n",
      "rainy\n",
      "rainy\n",
      "sunny\n",
      "rainy\n"
     ]
    }
   ],
   "source": [
    "for prediction in predictions:\n",
    "    print(model.states[prediction].name)"
   ]
  },
  {
   "cell_type": "code",
   "execution_count": 79,
   "id": "3750148a",
   "metadata": {},
   "outputs": [],
   "source": [
    "predicted_probabilities=model.predict_proba(observations)"
   ]
  },
  {
   "cell_type": "code",
   "execution_count": 80,
   "id": "dfb97a54",
   "metadata": {},
   "outputs": [],
   "source": [
    "most_likely_weather=pd.DataFrame(predicted_probabilities,columns=[\"rainy\",\"sunny\"])"
   ]
  },
  {
   "cell_type": "code",
   "execution_count": 81,
   "id": "af274a7f",
   "metadata": {},
   "outputs": [
    {
     "data": {
      "text/html": [
       "<div>\n",
       "<style scoped>\n",
       "    .dataframe tbody tr th:only-of-type {\n",
       "        vertical-align: middle;\n",
       "    }\n",
       "\n",
       "    .dataframe tbody tr th {\n",
       "        vertical-align: top;\n",
       "    }\n",
       "\n",
       "    .dataframe thead th {\n",
       "        text-align: right;\n",
       "    }\n",
       "</style>\n",
       "<table border=\"1\" class=\"dataframe\">\n",
       "  <thead>\n",
       "    <tr style=\"text-align: right;\">\n",
       "      <th></th>\n",
       "      <th>rainy</th>\n",
       "      <th>sunny</th>\n",
       "    </tr>\n",
       "  </thead>\n",
       "  <tbody>\n",
       "    <tr>\n",
       "      <th>0</th>\n",
       "      <td>0.400113</td>\n",
       "      <td>0.599887</td>\n",
       "    </tr>\n",
       "    <tr>\n",
       "      <th>1</th>\n",
       "      <td>0.307041</td>\n",
       "      <td>0.692959</td>\n",
       "    </tr>\n",
       "    <tr>\n",
       "      <th>2</th>\n",
       "      <td>0.862927</td>\n",
       "      <td>0.137073</td>\n",
       "    </tr>\n",
       "    <tr>\n",
       "      <th>3</th>\n",
       "      <td>0.873562</td>\n",
       "      <td>0.126438</td>\n",
       "    </tr>\n",
       "    <tr>\n",
       "      <th>4</th>\n",
       "      <td>0.417993</td>\n",
       "      <td>0.582007</td>\n",
       "    </tr>\n",
       "    <tr>\n",
       "      <th>5</th>\n",
       "      <td>0.818151</td>\n",
       "      <td>0.181849</td>\n",
       "    </tr>\n",
       "  </tbody>\n",
       "</table>\n",
       "</div>"
      ],
      "text/plain": [
       "      rainy     sunny\n",
       "0  0.400113  0.599887\n",
       "1  0.307041  0.692959\n",
       "2  0.862927  0.137073\n",
       "3  0.873562  0.126438\n",
       "4  0.417993  0.582007\n",
       "5  0.818151  0.181849"
      ]
     },
     "execution_count": 81,
     "metadata": {},
     "output_type": "execute_result"
    }
   ],
   "source": [
    "most_likely_weather"
   ]
  },
  {
   "cell_type": "code",
   "execution_count": null,
   "id": "af14ba7c",
   "metadata": {},
   "outputs": [],
   "source": []
  }
 ],
 "metadata": {
  "kernelspec": {
   "display_name": "Python 3 (ipykernel)",
   "language": "python",
   "name": "python3"
  },
  "language_info": {
   "codemirror_mode": {
    "name": "ipython",
    "version": 3
   },
   "file_extension": ".py",
   "mimetype": "text/x-python",
   "name": "python",
   "nbconvert_exporter": "python",
   "pygments_lexer": "ipython3",
   "version": "3.9.18"
  }
 },
 "nbformat": 4,
 "nbformat_minor": 5
}
