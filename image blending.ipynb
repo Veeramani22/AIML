{
 "cells": [
  {
   "cell_type": "code",
   "execution_count": 1,
   "id": "117ff977",
   "metadata": {},
   "outputs": [],
   "source": [
    "import cv2\n"
   ]
  },
  {
   "cell_type": "code",
   "execution_count": 2,
   "id": "c2128c90",
   "metadata": {},
   "outputs": [],
   "source": [
    "import numpy as np"
   ]
  },
  {
   "cell_type": "code",
   "execution_count": 3,
   "id": "8d93539e",
   "metadata": {},
   "outputs": [],
   "source": [
    "im1=cv2.imread(\"C:\\\\Users\\\\SYS76\\\\Desktop\\\\2.png\")\n",
    "im2=cv2.imread(\"C:\\\\Users\\\\SYS76\\\\Desktop\\\\1.png\")"
   ]
  },
  {
   "cell_type": "code",
   "execution_count": 6,
   "id": "98f05865",
   "metadata": {},
   "outputs": [],
   "source": [
    "cv2.imshow(\"img1\",im1)\n",
    "cv2.imshow(\"img2\",im2)\n",
    "cv2.waitKey(0)\n",
    "cv2.destroyAllWindows()"
   ]
  },
  {
   "cell_type": "markdown",
   "id": "6150d6d9",
   "metadata": {},
   "source": [
    "# blending image"
   ]
  },
  {
   "cell_type": "code",
   "execution_count": 7,
   "id": "432da431",
   "metadata": {},
   "outputs": [],
   "source": [
    "im_blend=cv2.addWeighted(im1,1,im2,0.3,0)"
   ]
  },
  {
   "cell_type": "code",
   "execution_count": 9,
   "id": "7fe616f4",
   "metadata": {},
   "outputs": [],
   "source": [
    "cv2.imshow(\"im1\",im1)\n",
    "cv2.waitKey(0)\n",
    "cv2.imshow(\"im2\",im2)\n",
    "cv2.waitKey(0)\n",
    "cv2.imshow(\"Blended\",im_blend)\n",
    "cv2.waitKey(0)\n",
    "cv2.destroyAllWindows()"
   ]
  },
  {
   "cell_type": "code",
   "execution_count": null,
   "id": "69823b67",
   "metadata": {},
   "outputs": [],
   "source": []
  }
 ],
 "metadata": {
  "kernelspec": {
   "display_name": "Python 3 (ipykernel)",
   "language": "python",
   "name": "python3"
  },
  "language_info": {
   "codemirror_mode": {
    "name": "ipython",
    "version": 3
   },
   "file_extension": ".py",
   "mimetype": "text/x-python",
   "name": "python",
   "nbconvert_exporter": "python",
   "pygments_lexer": "ipython3",
   "version": "3.9.18"
  }
 },
 "nbformat": 4,
 "nbformat_minor": 5
}
