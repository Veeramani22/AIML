{
 "cells": [
  {
   "cell_type": "code",
   "execution_count": 55,
   "id": "f6939846",
   "metadata": {},
   "outputs": [
    {
     "name": "stdout",
     "output_type": "stream",
     "text": [
      "Collecting scipy\n",
      "  Obtaining dependency information for scipy from https://files.pythonhosted.org/packages/3e/77/dab54fe647a08ee4253963bcd8f9cf17509c8ca64d6335141422fe2e2114/scipy-1.13.1-cp39-cp39-win_amd64.whl.metadata\n",
      "  Downloading scipy-1.13.1-cp39-cp39-win_amd64.whl.metadata (60 kB)\n",
      "     ---------------------------------------- 0.0/60.6 kB ? eta -:--:--\n",
      "     ------------ ------------------------- 20.5/60.6 kB 330.3 kB/s eta 0:00:01\n",
      "     -------------------------------- ----- 51.2/60.6 kB 650.2 kB/s eta 0:00:01\n",
      "     -------------------------------------- 60.6/60.6 kB 457.6 kB/s eta 0:00:00\n",
      "Requirement already satisfied: numpy<2.3,>=1.22.4 in c:\\users\\pmu\\anaconda3\\envs\\veeramani891\\lib\\site-packages (from scipy) (1.26.0)\n",
      "Downloading scipy-1.13.1-cp39-cp39-win_amd64.whl (46.2 MB)\n",
      "   ---------------------------------------- 0.0/46.2 MB ? eta -:--:--\n",
      "   ---------------------------------------- 0.1/46.2 MB 7.7 MB/s eta 0:00:07\n",
      "   ---------------------------------------- 0.4/46.2 MB 6.3 MB/s eta 0:00:08\n",
      "    --------------------------------------- 0.7/46.2 MB 6.7 MB/s eta 0:00:07\n",
      "    --------------------------------------- 1.1/46.2 MB 6.8 MB/s eta 0:00:07\n",
      "   - -------------------------------------- 1.5/46.2 MB 7.3 MB/s eta 0:00:07\n",
      "   - -------------------------------------- 2.0/46.2 MB 7.8 MB/s eta 0:00:06\n",
      "   -- ------------------------------------- 2.6/46.2 MB 8.7 MB/s eta 0:00:06\n",
      "   -- ------------------------------------- 3.2/46.2 MB 9.8 MB/s eta 0:00:05\n",
      "   --- ------------------------------------ 3.9/46.2 MB 10.5 MB/s eta 0:00:05\n",
      "   ---- ----------------------------------- 4.7/46.2 MB 11.6 MB/s eta 0:00:04\n",
      "   ---- ----------------------------------- 5.5/46.2 MB 12.6 MB/s eta 0:00:04\n",
      "   ----- ---------------------------------- 6.3/46.2 MB 12.6 MB/s eta 0:00:04\n",
      "   ------ --------------------------------- 7.0/46.2 MB 13.2 MB/s eta 0:00:03\n",
      "   ------ --------------------------------- 7.7/46.2 MB 13.4 MB/s eta 0:00:03\n",
      "   ------- -------------------------------- 8.5/46.2 MB 13.9 MB/s eta 0:00:03\n",
      "   ------- -------------------------------- 9.2/46.2 MB 14.0 MB/s eta 0:00:03\n",
      "   -------- ------------------------------- 9.8/46.2 MB 13.9 MB/s eta 0:00:03\n",
      "   --------- ------------------------------ 10.6/46.2 MB 15.2 MB/s eta 0:00:03\n",
      "   --------- ------------------------------ 11.4/46.2 MB 16.8 MB/s eta 0:00:03\n",
      "   ---------- ----------------------------- 12.2/46.2 MB 17.2 MB/s eta 0:00:02\n",
      "   ----------- ---------------------------- 13.0/46.2 MB 18.2 MB/s eta 0:00:02\n",
      "   ----------- ---------------------------- 13.8/46.2 MB 18.7 MB/s eta 0:00:02\n",
      "   ------------ --------------------------- 14.8/46.2 MB 19.3 MB/s eta 0:00:02\n",
      "   ------------- -------------------------- 15.5/46.2 MB 18.2 MB/s eta 0:00:02\n",
      "   -------------- ------------------------- 16.2/46.2 MB 18.7 MB/s eta 0:00:02\n",
      "   -------------- ------------------------- 17.0/46.2 MB 18.2 MB/s eta 0:00:02\n",
      "   --------------- ------------------------ 17.6/46.2 MB 18.7 MB/s eta 0:00:02\n",
      "   --------------- ------------------------ 18.4/46.2 MB 18.2 MB/s eta 0:00:02\n",
      "   ---------------- ----------------------- 19.1/46.2 MB 18.7 MB/s eta 0:00:02\n",
      "   ----------------- ---------------------- 20.0/46.2 MB 18.7 MB/s eta 0:00:02\n",
      "   ----------------- ---------------------- 20.7/46.2 MB 18.7 MB/s eta 0:00:02\n",
      "   ------------------ --------------------- 21.6/46.2 MB 18.7 MB/s eta 0:00:02\n",
      "   ------------------- -------------------- 22.4/46.2 MB 18.7 MB/s eta 0:00:02\n",
      "   -------------------- ------------------- 23.1/46.2 MB 18.2 MB/s eta 0:00:02\n",
      "   -------------------- ------------------- 23.8/46.2 MB 17.7 MB/s eta 0:00:02\n",
      "   --------------------- ------------------ 24.5/46.2 MB 17.7 MB/s eta 0:00:02\n",
      "   --------------------- ------------------ 25.2/46.2 MB 17.2 MB/s eta 0:00:02\n",
      "   ---------------------- ----------------- 25.9/46.2 MB 17.7 MB/s eta 0:00:02\n",
      "   ----------------------- ---------------- 26.7/46.2 MB 17.7 MB/s eta 0:00:02\n",
      "   ----------------------- ---------------- 27.5/46.2 MB 17.7 MB/s eta 0:00:02\n",
      "   ------------------------ --------------- 28.2/46.2 MB 17.7 MB/s eta 0:00:02\n",
      "   ------------------------- -------------- 28.9/46.2 MB 17.2 MB/s eta 0:00:02\n",
      "   ------------------------- -------------- 29.6/46.2 MB 16.8 MB/s eta 0:00:01\n",
      "   -------------------------- ------------- 30.2/46.2 MB 17.2 MB/s eta 0:00:01\n",
      "   -------------------------- ------------- 30.9/46.2 MB 16.8 MB/s eta 0:00:01\n",
      "   --------------------------- ------------ 31.5/46.2 MB 16.4 MB/s eta 0:00:01\n",
      "   --------------------------- ------------ 32.3/46.2 MB 16.4 MB/s eta 0:00:01\n",
      "   ---------------------------- ----------- 33.0/46.2 MB 16.4 MB/s eta 0:00:01\n",
      "   ----------------------------- ---------- 33.7/46.2 MB 16.4 MB/s eta 0:00:01\n",
      "   ----------------------------- ---------- 34.3/46.2 MB 16.4 MB/s eta 0:00:01\n",
      "   ------------------------------ --------- 34.8/46.2 MB 16.4 MB/s eta 0:00:01\n",
      "   ------------------------------ --------- 35.7/46.2 MB 16.8 MB/s eta 0:00:01\n",
      "   ------------------------------- -------- 36.6/46.2 MB 16.4 MB/s eta 0:00:01\n",
      "   -------------------------------- ------- 37.3/46.2 MB 16.0 MB/s eta 0:00:01\n",
      "   -------------------------------- ------- 38.0/46.2 MB 16.4 MB/s eta 0:00:01\n",
      "   --------------------------------- ------ 38.7/46.2 MB 16.4 MB/s eta 0:00:01\n",
      "   ---------------------------------- ----- 39.3/46.2 MB 16.4 MB/s eta 0:00:01\n",
      "   ---------------------------------- ----- 40.1/46.2 MB 16.8 MB/s eta 0:00:01\n",
      "   ----------------------------------- ---- 40.8/46.2 MB 17.2 MB/s eta 0:00:01\n",
      "   ------------------------------------ --- 41.7/46.2 MB 17.7 MB/s eta 0:00:01\n",
      "   ------------------------------------ --- 42.7/46.2 MB 18.2 MB/s eta 0:00:01\n",
      "   ------------------------------------- -- 43.5/46.2 MB 18.2 MB/s eta 0:00:01\n",
      "   -------------------------------------- - 44.3/46.2 MB 18.2 MB/s eta 0:00:01\n",
      "   ---------------------------------------  45.2/46.2 MB 18.7 MB/s eta 0:00:01\n",
      "   ---------------------------------------  45.9/46.2 MB 17.7 MB/s eta 0:00:01\n",
      "   ---------------------------------------  46.2/46.2 MB 17.7 MB/s eta 0:00:01\n",
      "   ---------------------------------------  46.2/46.2 MB 17.7 MB/s eta 0:00:01\n",
      "   ---------------------------------------  46.2/46.2 MB 17.7 MB/s eta 0:00:01\n",
      "   ---------------------------------------  46.2/46.2 MB 17.7 MB/s eta 0:00:01\n",
      "   ---------------------------------------  46.2/46.2 MB 17.7 MB/s eta 0:00:01\n",
      "   ---------------------------------------  46.2/46.2 MB 17.7 MB/s eta 0:00:01\n",
      "   ---------------------------------------  46.2/46.2 MB 17.7 MB/s eta 0:00:01\n",
      "   ---------------------------------------  46.2/46.2 MB 17.7 MB/s eta 0:00:01\n",
      "   ---------------------------------------  46.2/46.2 MB 17.7 MB/s eta 0:00:01\n",
      "   ---------------------------------------  46.2/46.2 MB 17.7 MB/s eta 0:00:01\n",
      "   ---------------------------------------  46.2/46.2 MB 17.7 MB/s eta 0:00:01\n",
      "   ---------------------------------------  46.2/46.2 MB 17.7 MB/s eta 0:00:01\n",
      "   ---------------------------------------  46.2/46.2 MB 17.7 MB/s eta 0:00:01\n",
      "   ---------------------------------------  46.2/46.2 MB 17.7 MB/s eta 0:00:01\n",
      "   ---------------------------------------  46.2/46.2 MB 17.7 MB/s eta 0:00:01\n",
      "   ---------------------------------------  46.2/46.2 MB 17.7 MB/s eta 0:00:01\n",
      "   ---------------------------------------  46.2/46.2 MB 17.7 MB/s eta 0:00:01\n",
      "   ---------------------------------------  46.2/46.2 MB 17.7 MB/s eta 0:00:01\n",
      "   ---------------------------------------  46.2/46.2 MB 17.7 MB/s eta 0:00:01\n",
      "   ---------------------------------------  46.2/46.2 MB 17.7 MB/s eta 0:00:01\n",
      "   ---------------------------------------  46.2/46.2 MB 17.7 MB/s eta 0:00:01\n",
      "   ---------------------------------------  46.2/46.2 MB 17.7 MB/s eta 0:00:01\n",
      "   ---------------------------------------  46.2/46.2 MB 17.7 MB/s eta 0:00:01\n",
      "   ---------------------------------------  46.2/46.2 MB 17.7 MB/s eta 0:00:01\n",
      "   ---------------------------------------  46.2/46.2 MB 17.7 MB/s eta 0:00:01\n",
      "   ---------------------------------------  46.2/46.2 MB 17.7 MB/s eta 0:00:01\n",
      "   ---------------------------------------  46.2/46.2 MB 17.7 MB/s eta 0:00:01\n",
      "   ---------------------------------------- 46.2/46.2 MB 5.2 MB/s eta 0:00:00\n",
      "Installing collected packages: scipy\n",
      "Successfully installed scipy-1.13.1\n",
      "Note: you may need to restart the kernel to use updated packages.\n"
     ]
    }
   ],
   "source": []
  },
  {
   "cell_type": "code",
   "execution_count": 2,
   "id": "94279f07",
   "metadata": {},
   "outputs": [],
   "source": [
    "import numpy as np"
   ]
  },
  {
   "cell_type": "code",
   "execution_count": 3,
   "id": "f3fef2fa",
   "metadata": {
    "scrolled": true
   },
   "outputs": [
    {
     "data": {
      "text/plain": [
       "array(6)"
      ]
     },
     "execution_count": 3,
     "metadata": {},
     "output_type": "execute_result"
    }
   ],
   "source": [
    "ar1=np.array(6)\n",
    "ar1"
   ]
  },
  {
   "cell_type": "code",
   "execution_count": 4,
   "id": "52eedd40",
   "metadata": {
    "scrolled": true
   },
   "outputs": [],
   "source": [
    "ar2=np.array([[2,3,4,5,6],[1,2,3,4,5]])\n",
    "\n"
   ]
  },
  {
   "cell_type": "code",
   "execution_count": 5,
   "id": "440363f4",
   "metadata": {},
   "outputs": [
    {
     "data": {
      "text/plain": [
       "array([[2, 3, 4, 5, 6],\n",
       "       [1, 2, 3, 4, 5]])"
      ]
     },
     "execution_count": 5,
     "metadata": {},
     "output_type": "execute_result"
    }
   ],
   "source": [
    "ar2"
   ]
  },
  {
   "cell_type": "code",
   "execution_count": 7,
   "id": "85bacaf0",
   "metadata": {},
   "outputs": [
    {
     "data": {
      "text/plain": [
       "array([[1, 2, 3, 4],\n",
       "       [2, 3, 4, 5]])"
      ]
     },
     "execution_count": 7,
     "metadata": {},
     "output_type": "execute_result"
    }
   ],
   "source": [
    "\n",
    "ar3=np.array([[1,2,3,4],[2,3,4,5]])\n",
    "ar3"
   ]
  },
  {
   "cell_type": "code",
   "execution_count": 8,
   "id": "c16f544a",
   "metadata": {},
   "outputs": [
    {
     "data": {
      "text/plain": [
       "array([[0., 0.],\n",
       "       [0., 0.]])"
      ]
     },
     "execution_count": 8,
     "metadata": {},
     "output_type": "execute_result"
    }
   ],
   "source": [
    "\n",
    "zero_array=np.zeros((2,2))\n",
    "zero_array"
   ]
  },
  {
   "cell_type": "code",
   "execution_count": 9,
   "id": "3a25008d",
   "metadata": {},
   "outputs": [
    {
     "data": {
      "text/plain": [
       "array([[1., 1.],\n",
       "       [1., 1.]])"
      ]
     },
     "execution_count": 9,
     "metadata": {},
     "output_type": "execute_result"
    }
   ],
   "source": [
    "one_array=np.ones((2,2))\n",
    "one_array"
   ]
  },
  {
   "cell_type": "code",
   "execution_count": 10,
   "id": "4442087c",
   "metadata": {},
   "outputs": [
    {
     "data": {
      "text/plain": [
       "array([ 2,  5,  8, 11, 14])"
      ]
     },
     "execution_count": 10,
     "metadata": {},
     "output_type": "execute_result"
    }
   ],
   "source": [
    "\n",
    "ar4=np.arange(2,15,3)\n",
    "ar4"
   ]
  },
  {
   "cell_type": "code",
   "execution_count": 11,
   "id": "7a4cecbf",
   "metadata": {},
   "outputs": [
    {
     "data": {
      "text/plain": [
       "array([[1, 2],\n",
       "       [2, 3],\n",
       "       [3, 4],\n",
       "       [4, 5]])"
      ]
     },
     "execution_count": 11,
     "metadata": {},
     "output_type": "execute_result"
    }
   ],
   "source": [
    "\n",
    "ar5=np.transpose(ar3)\n",
    "ar5"
   ]
  },
  {
   "cell_type": "code",
   "execution_count": 13,
   "id": "2e8ea7e4",
   "metadata": {},
   "outputs": [
    {
     "data": {
      "text/plain": [
       "array([1, 2, 2, 3, 3, 4, 4, 5])"
      ]
     },
     "execution_count": 13,
     "metadata": {},
     "output_type": "execute_result"
    }
   ],
   "source": [
    "ar6=np.ravel(ar5)\n",
    "ar6"
   ]
  },
  {
   "cell_type": "code",
   "execution_count": 14,
   "id": "4ff67b9c",
   "metadata": {},
   "outputs": [
    {
     "data": {
      "text/plain": [
       "array([2, 2])"
      ]
     },
     "execution_count": 14,
     "metadata": {},
     "output_type": "execute_result"
    }
   ],
   "source": [
    "a1=np.array([2,2])\n",
    "a2=np.array([4,2])\n",
    "a1"
   ]
  },
  {
   "cell_type": "code",
   "execution_count": 15,
   "id": "f4b78f92",
   "metadata": {},
   "outputs": [
    {
     "data": {
      "text/plain": [
       "array([2, 2, 4, 2])"
      ]
     },
     "execution_count": 15,
     "metadata": {},
     "output_type": "execute_result"
    }
   ],
   "source": [
    "concat=np.concatenate((a1,a2))\n",
    "concat"
   ]
  },
  {
   "cell_type": "code",
   "execution_count": 16,
   "id": "a39074cc",
   "metadata": {},
   "outputs": [
    {
     "data": {
      "text/plain": [
       "array([2, 2, 4, 2])"
      ]
     },
     "execution_count": 16,
     "metadata": {},
     "output_type": "execute_result"
    }
   ],
   "source": [
    "\n",
    "hori=np.hstack((a1,a2))\n",
    "hori"
   ]
  },
  {
   "cell_type": "code",
   "execution_count": 17,
   "id": "0058d1c3",
   "metadata": {},
   "outputs": [],
   "source": [
    "vert=np.vstack((a1,a2))"
   ]
  },
  {
   "cell_type": "code",
   "execution_count": 19,
   "id": "fb0a27e8",
   "metadata": {},
   "outputs": [
    {
     "data": {
      "text/plain": [
       "array([[2, 2],\n",
       "       [4, 2]])"
      ]
     },
     "execution_count": 19,
     "metadata": {},
     "output_type": "execute_result"
    }
   ],
   "source": [
    "vert"
   ]
  },
  {
   "cell_type": "code",
   "execution_count": 37,
   "id": "1c0ddddd",
   "metadata": {},
   "outputs": [],
   "source": [
    "mat1=np.array([[1,2,3],[4,7,6],[5,8,9]])"
   ]
  },
  {
   "cell_type": "code",
   "execution_count": 38,
   "id": "104ee2db",
   "metadata": {},
   "outputs": [
    {
     "data": {
      "text/plain": [
       "array([[1, 2, 3],\n",
       "       [4, 7, 6],\n",
       "       [5, 8, 9]])"
      ]
     },
     "execution_count": 38,
     "metadata": {},
     "output_type": "execute_result"
    }
   ],
   "source": [
    "mat1"
   ]
  },
  {
   "cell_type": "code",
   "execution_count": 39,
   "id": "83626062",
   "metadata": {},
   "outputs": [],
   "source": [
    "det_of_mat1=np.linalg.det(mat1)\n"
   ]
  },
  {
   "cell_type": "code",
   "execution_count": 40,
   "id": "263e068a",
   "metadata": {},
   "outputs": [
    {
     "data": {
      "text/plain": [
       "-5.999999999999997"
      ]
     },
     "execution_count": 40,
     "metadata": {},
     "output_type": "execute_result"
    }
   ],
   "source": [
    "det_of_mat1"
   ]
  },
  {
   "cell_type": "code",
   "execution_count": 45,
   "id": "19d8970c",
   "metadata": {},
   "outputs": [],
   "source": [
    "inverse=np.linalg.inv(mat1)"
   ]
  },
  {
   "cell_type": "code",
   "execution_count": 46,
   "id": "cbe1e24b",
   "metadata": {},
   "outputs": [
    {
     "data": {
      "text/plain": [
       "array([[-2.5       , -1.        ,  1.5       ],\n",
       "       [ 1.        ,  1.        , -1.        ],\n",
       "       [ 0.5       , -0.33333333,  0.16666667]])"
      ]
     },
     "execution_count": 46,
     "metadata": {},
     "output_type": "execute_result"
    }
   ],
   "source": [
    "inverse"
   ]
  },
  {
   "cell_type": "code",
   "execution_count": 47,
   "id": "3a5f664f",
   "metadata": {},
   "outputs": [],
   "source": [
    "Dense=np.array([[1,0,3,0],[4,0,7,0],[5,0,8,0],[0,6,0,9]])"
   ]
  },
  {
   "cell_type": "code",
   "execution_count": 49,
   "id": "6933545a",
   "metadata": {},
   "outputs": [
    {
     "data": {
      "text/plain": [
       "array([[1, 0, 3, 0],\n",
       "       [4, 0, 7, 0],\n",
       "       [5, 0, 8, 0],\n",
       "       [0, 6, 0, 9]])"
      ]
     },
     "execution_count": 49,
     "metadata": {},
     "output_type": "execute_result"
    }
   ],
   "source": [
    "Dense"
   ]
  },
  {
   "cell_type": "code",
   "execution_count": 56,
   "id": "cc3a9a97",
   "metadata": {},
   "outputs": [],
   "source": [
    "from scipy.sparse import csr_matrix"
   ]
  },
  {
   "cell_type": "code",
   "execution_count": 61,
   "id": "fe725b2c",
   "metadata": {
    "scrolled": true
   },
   "outputs": [],
   "source": [
    "sparse=csr_matrix(Dense)"
   ]
  },
  {
   "cell_type": "code",
   "execution_count": 62,
   "id": "ff3185e1",
   "metadata": {},
   "outputs": [
    {
     "data": {
      "text/plain": [
       "<4x4 sparse matrix of type '<class 'numpy.int32'>'\n",
       "\twith 8 stored elements in Compressed Sparse Row format>"
      ]
     },
     "execution_count": 62,
     "metadata": {},
     "output_type": "execute_result"
    }
   ],
   "source": [
    "sparse"
   ]
  },
  {
   "cell_type": "code",
   "execution_count": 63,
   "id": "2fee98b9",
   "metadata": {},
   "outputs": [
    {
     "name": "stdout",
     "output_type": "stream",
     "text": [
      "  (0, 0)\t1\n",
      "  (0, 2)\t3\n",
      "  (1, 0)\t4\n",
      "  (1, 2)\t7\n",
      "  (2, 0)\t5\n",
      "  (2, 2)\t8\n",
      "  (3, 1)\t6\n",
      "  (3, 3)\t9\n"
     ]
    }
   ],
   "source": [
    "print(sparse)"
   ]
  },
  {
   "cell_type": "code",
   "execution_count": null,
   "id": "ff3fcfd1",
   "metadata": {},
   "outputs": [],
   "source": []
  }
 ],
 "metadata": {
  "kernelspec": {
   "display_name": "Python 3 (ipykernel)",
   "language": "python",
   "name": "python3"
  },
  "language_info": {
   "codemirror_mode": {
    "name": "ipython",
    "version": 3
   },
   "file_extension": ".py",
   "mimetype": "text/x-python",
   "name": "python",
   "nbconvert_exporter": "python",
   "pygments_lexer": "ipython3",
   "version": "3.9.18"
  }
 },
 "nbformat": 4,
 "nbformat_minor": 5
}
