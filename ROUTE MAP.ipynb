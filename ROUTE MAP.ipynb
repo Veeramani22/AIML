{
 "cells": [
  {
   "cell_type": "code",
   "execution_count": 17,
   "id": "22a15db1",
   "metadata": {},
   "outputs": [],
   "source": [
    "graph={'home':['GANDARVAKOTTAI'],\n",
    "      'GANDARVAKOTTAI':['NEW BUSSTAND'],\n",
    "      'NEW BUSSTAND':['VALLAM'],\n",
    "      'VALLAM':['PMU'],\n",
    "      'PMU':['PMU GATE'],\n",
    "      'PMU GATE':['PKC BLOCK'],\n",
    "      'PKC BLOCK':['PMU GATE']}"
   ]
  },
  {
   "cell_type": "code",
   "execution_count": 18,
   "id": "0378f20f",
   "metadata": {},
   "outputs": [],
   "source": [
    "from collections import deque\n",
    "def BFS(graph,start,goal):\n",
    "    visited=[]\n",
    "    queue=deque([start])\n",
    "    while queue:\n",
    "        node=queue.popleft()\n",
    "        if node not in visited:\n",
    "            visited.append(node)\n",
    "            print(\"I HAVE VISITED:\",node)\n",
    "            neighbournode=graph[node]\n",
    "            if node==goal:\n",
    "                print(\"I HAVE REACHED THE GOAL,THE PATH I TRAVELLED\",visited)\n",
    "            for neighbours in neighbournode:\n",
    "                queue.append(neighbours)\n",
    "                "
   ]
  },
  {
   "cell_type": "code",
   "execution_count": 19,
   "id": "cd61eb65",
   "metadata": {},
   "outputs": [
    {
     "name": "stdout",
     "output_type": "stream",
     "text": [
      "I HAVE VISITED: home\n",
      "I HAVE VISITED: GANDARVAKOTTAI\n",
      "I HAVE VISITED: NEW BUSSTAND\n",
      "I HAVE VISITED: VALLAM\n",
      "I HAVE VISITED: PMU\n",
      "I HAVE VISITED: PMU GATE\n",
      "I HAVE VISITED: PKC BLOCK\n"
     ]
    }
   ],
   "source": [
    "BFS(graph,'home','PKC GATE')"
   ]
  },
  {
   "cell_type": "code",
   "execution_count": null,
   "id": "4eaa05e7",
   "metadata": {},
   "outputs": [],
   "source": []
  },
  {
   "cell_type": "code",
   "execution_count": null,
   "id": "6bfc2707",
   "metadata": {},
   "outputs": [],
   "source": []
  }
 ],
 "metadata": {
  "kernelspec": {
   "display_name": "Python 3 (ipykernel)",
   "language": "python",
   "name": "python3"
  },
  "language_info": {
   "codemirror_mode": {
    "name": "ipython",
    "version": 3
   },
   "file_extension": ".py",
   "mimetype": "text/x-python",
   "name": "python",
   "nbconvert_exporter": "python",
   "pygments_lexer": "ipython3",
   "version": "3.9.18"
  }
 },
 "nbformat": 4,
 "nbformat_minor": 5
}
