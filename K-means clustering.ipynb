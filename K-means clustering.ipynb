{
 "cells": [
  {
   "cell_type": "code",
   "execution_count": 1,
   "id": "ad4f1055",
   "metadata": {},
   "outputs": [],
   "source": [
    "import cv2 \n",
    "import numpy as np\n"
   ]
  },
  {
   "cell_type": "code",
   "execution_count": 2,
   "id": "f13ed965",
   "metadata": {},
   "outputs": [],
   "source": [
    "img=cv2.imread(\"C:\\\\Users\\\\SYS76\\\\Downloads\\\\download.jfif\")"
   ]
  },
  {
   "cell_type": "code",
   "execution_count": 3,
   "id": "6aae355a",
   "metadata": {},
   "outputs": [],
   "source": [
    "imgrgb=cv2.cvtColor(img,cv2.COLOR_BGR2RGB)"
   ]
  },
  {
   "cell_type": "code",
   "execution_count": 4,
   "id": "cd48a3af",
   "metadata": {},
   "outputs": [
    {
     "data": {
      "text/plain": [
       "array([[164, 101,  48],\n",
       "       [164, 101,  48],\n",
       "       [167, 102,  48],\n",
       "       ...,\n",
       "       [106,  97,  88],\n",
       "       [ 99,  86,  77],\n",
       "       [105,  93,  81]], dtype=uint8)"
      ]
     },
     "execution_count": 4,
     "metadata": {},
     "output_type": "execute_result"
    }
   ],
   "source": [
    "vec = imgrgb.reshape((-1,3))\n",
    "vec"
   ]
  },
  {
   "cell_type": "code",
   "execution_count": 5,
   "id": "b98cf6d8",
   "metadata": {},
   "outputs": [
    {
     "data": {
      "text/plain": [
       "array([[164., 101.,  48.],\n",
       "       [164., 101.,  48.],\n",
       "       [167., 102.,  48.],\n",
       "       ...,\n",
       "       [106.,  97.,  88.],\n",
       "       [ 99.,  86.,  77.],\n",
       "       [105.,  93.,  81.]], dtype=float32)"
      ]
     },
     "execution_count": 5,
     "metadata": {},
     "output_type": "execute_result"
    }
   ],
   "source": [
    "vec=np.float32(vec)\n",
    "vec"
   ]
  },
  {
   "cell_type": "code",
   "execution_count": 6,
   "id": "b685c400",
   "metadata": {},
   "outputs": [],
   "source": [
    "criteria = (cv2.TERM_CRITERIA_EPS+cv2.TERM_CRITERIA_MAX_ITER,100,1)"
   ]
  },
  {
   "cell_type": "code",
   "execution_count": 7,
   "id": "3acb96ee",
   "metadata": {},
   "outputs": [],
   "source": [
    "k=3\n",
    "attempts=100"
   ]
  },
  {
   "cell_type": "code",
   "execution_count": 10,
   "id": "9883e273",
   "metadata": {},
   "outputs": [],
   "source": [
    "compactness,label,center=cv2.kmeans(vec,k,None,criteria,attempts,cv2.KMEANS_PP_CENTERS)"
   ]
  },
  {
   "cell_type": "code",
   "execution_count": 19,
   "id": "3496ad3e",
   "metadata": {},
   "outputs": [
    {
     "data": {
      "text/plain": [
       "array([[206, 140,  74],\n",
       "       [ 70,  61,  56],\n",
       "       [213, 202, 190]], dtype=uint8)"
      ]
     },
     "execution_count": 19,
     "metadata": {},
     "output_type": "execute_result"
    }
   ],
   "source": [
    "center = np.uint8(center)\n",
    "center"
   ]
  },
  {
   "cell_type": "code",
   "execution_count": 21,
   "id": "bdd119ec",
   "metadata": {},
   "outputs": [
    {
     "data": {
      "text/plain": [
       "array([[[206, 140,  74],\n",
       "        [206, 140,  74],\n",
       "        [206, 140,  74],\n",
       "        ...,\n",
       "        [206, 140,  74],\n",
       "        [206, 140,  74],\n",
       "        [206, 140,  74]],\n",
       "\n",
       "       [[206, 140,  74],\n",
       "        [206, 140,  74],\n",
       "        [206, 140,  74],\n",
       "        ...,\n",
       "        [206, 140,  74],\n",
       "        [206, 140,  74],\n",
       "        [206, 140,  74]],\n",
       "\n",
       "       [[206, 140,  74],\n",
       "        [206, 140,  74],\n",
       "        [206, 140,  74],\n",
       "        ...,\n",
       "        [206, 140,  74],\n",
       "        [206, 140,  74],\n",
       "        [206, 140,  74]],\n",
       "\n",
       "       ...,\n",
       "\n",
       "       [[ 70,  61,  56],\n",
       "        [ 70,  61,  56],\n",
       "        [ 70,  61,  56],\n",
       "        ...,\n",
       "        [ 70,  61,  56],\n",
       "        [ 70,  61,  56],\n",
       "        [ 70,  61,  56]],\n",
       "\n",
       "       [[ 70,  61,  56],\n",
       "        [ 70,  61,  56],\n",
       "        [ 70,  61,  56],\n",
       "        ...,\n",
       "        [ 70,  61,  56],\n",
       "        [206, 140,  74],\n",
       "        [ 70,  61,  56]],\n",
       "\n",
       "       [[ 70,  61,  56],\n",
       "        [ 70,  61,  56],\n",
       "        [ 70,  61,  56],\n",
       "        ...,\n",
       "        [ 70,  61,  56],\n",
       "        [ 70,  61,  56],\n",
       "        [ 70,  61,  56]]], dtype=uint8)"
      ]
     },
     "execution_count": 21,
     "metadata": {},
     "output_type": "execute_result"
    }
   ],
   "source": [
    "res=center[label.flatten()]\n",
    "res_img=res.reshape((imgrgb.shape))\n",
    "res_img"
   ]
  },
  {
   "cell_type": "code",
   "execution_count": 24,
   "id": "63e233ad",
   "metadata": {},
   "outputs": [],
   "source": [
    "cv2.imshow(\"Orginal\",img)\n",
    "cv2.imshow(\"Segmaented\",res_img)\n",
    "cv2.waitKey(0)\n",
    "cv2.destroyAllWindows()\n",
    "            "
   ]
  },
  {
   "cell_type": "code",
   "execution_count": null,
   "id": "509f0a00",
   "metadata": {},
   "outputs": [],
   "source": []
  }
 ],
 "metadata": {
  "kernelspec": {
   "display_name": "Python 3 (ipykernel)",
   "language": "python",
   "name": "python3"
  },
  "language_info": {
   "codemirror_mode": {
    "name": "ipython",
    "version": 3
   },
   "file_extension": ".py",
   "mimetype": "text/x-python",
   "name": "python",
   "nbconvert_exporter": "python",
   "pygments_lexer": "ipython3",
   "version": "3.9.18"
  }
 },
 "nbformat": 4,
 "nbformat_minor": 5
}
