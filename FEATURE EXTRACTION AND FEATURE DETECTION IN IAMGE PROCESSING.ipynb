{
 "cells": [
  {
   "cell_type": "markdown",
   "id": "4d1929ee",
   "metadata": {},
   "source": [
    "# canny edge"
   ]
  },
  {
   "cell_type": "code",
   "execution_count": 1,
   "id": "6c4f2511",
   "metadata": {},
   "outputs": [],
   "source": [
    "import cv2\n",
    "import numpy as np"
   ]
  },
  {
   "cell_type": "code",
   "execution_count": 2,
   "id": "e4d7f56f",
   "metadata": {},
   "outputs": [],
   "source": [
    "img =cv2.imread(\"C:\\\\Users\\\\SYS76\\\\Downloads\\\\images.jfif\",0)"
   ]
  },
  {
   "cell_type": "code",
   "execution_count": 9,
   "id": "0977b21a",
   "metadata": {},
   "outputs": [],
   "source": [
    "canny=cv2.Canny(img,40,200)"
   ]
  },
  {
   "cell_type": "code",
   "execution_count": 10,
   "id": "4bfd14ce",
   "metadata": {},
   "outputs": [],
   "source": [
    "cv2.imshow('ORG',img)\n",
    "cv2.imshow('CAN',canny)\n",
    "cv2.waitKey(0)\n",
    "cv2.destroyAllWindows()"
   ]
  },
  {
   "cell_type": "code",
   "execution_count": null,
   "id": "a793d38b",
   "metadata": {},
   "outputs": [],
   "source": []
  }
 ],
 "metadata": {
  "kernelspec": {
   "display_name": "Python 3 (ipykernel)",
   "language": "python",
   "name": "python3"
  },
  "language_info": {
   "codemirror_mode": {
    "name": "ipython",
    "version": 3
   },
   "file_extension": ".py",
   "mimetype": "text/x-python",
   "name": "python",
   "nbconvert_exporter": "python",
   "pygments_lexer": "ipython3",
   "version": "3.9.18"
  }
 },
 "nbformat": 4,
 "nbformat_minor": 5
}
