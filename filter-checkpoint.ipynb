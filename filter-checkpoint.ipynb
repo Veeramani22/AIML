{
 "cells": [
  {
   "cell_type": "code",
   "execution_count": 1,
   "id": "ba2365f1",
   "metadata": {},
   "outputs": [],
   "source": [
    "import cv2 as cv\n",
    "import numpy as np"
   ]
  },
  {
   "cell_type": "code",
   "execution_count": 2,
   "id": "e3c0dd81",
   "metadata": {},
   "outputs": [],
   "source": [
    "import matplotlib as plt"
   ]
  },
  {
   "cell_type": "code",
   "execution_count": 3,
   "id": "f458849f",
   "metadata": {},
   "outputs": [],
   "source": [
    "img=cv.imread('C:\\\\Users\\\\pmu\\\\Downloads\\\\cow.jpg')\n",
    "kernal=np.ones((5,5),np.float32)/25\n",
    "filter =cv.filter2D(img,-1,kernal)\n",
    "cv.imshow('image',img)\n",
    "cv.imshow('filter2d',filter)\n",
    "cv.waitKey(0)\n",
    "cv.destroyAllWindows()\n"
   ]
  },
  {
   "cell_type": "markdown",
   "id": "3df630f4",
   "metadata": {},
   "source": [
    "# bluring"
   ]
  },
  {
   "cell_type": "code",
   "execution_count": 4,
   "id": "ee277cba",
   "metadata": {},
   "outputs": [],
   "source": [
    "img=cv.imread('C:\\\\Users\\\\pmu\\\\Downloads\\\\cow.jpg')\n",
    "blur=cv.blur(img,(5,5))\n",
    "cv.imshow('image',img)\n",
    "cv.imshow('blur',blur)\n",
    "cv.waitKey(0)\n",
    "cv.destroyAllWindows()\n"
   ]
  },
  {
   "cell_type": "markdown",
   "id": "5f992d28",
   "metadata": {},
   "source": [
    "# GAUSSIAN BLUR"
   ]
  },
  {
   "cell_type": "code",
   "execution_count": 5,
   "id": "bfc07faa",
   "metadata": {},
   "outputs": [],
   "source": [
    "img=cv.imread('C:\\\\Users\\\\pmu\\\\Downloads\\\\cow.jpg')"
   ]
  },
  {
   "cell_type": "code",
   "execution_count": 6,
   "id": "988856ef",
   "metadata": {},
   "outputs": [],
   "source": [
    "Gblur=cv.GaussianBlur(img,(7,7),0)\n",
    "cv.imshow('image',img)\n",
    "cv.imshow('GaussianBlur',Gblur)\n",
    "cv.waitKey(0)\n",
    "cv.destroyAllWindows()\n"
   ]
  },
  {
   "cell_type": "markdown",
   "id": "6ba05bb2",
   "metadata": {},
   "source": [
    "# BILATERAL FILTER"
   ]
  },
  {
   "cell_type": "code",
   "execution_count": 7,
   "id": "3f91630a",
   "metadata": {},
   "outputs": [],
   "source": [
    "img=cv.imread('C:\\\\Users\\\\pmu\\\\Downloads\\\\noise_intro_2.jpg')"
   ]
  },
  {
   "cell_type": "code",
   "execution_count": 11,
   "id": "3cfb2836",
   "metadata": {},
   "outputs": [
    {
     "name": "stdout",
     "output_type": "stream",
     "text": [
      "(800, 1500, 3)\n"
     ]
    }
   ],
   "source": [
    "print(img.shape)\n",
    "Bfilter=cv.bilateralFilter(img,9,5,5)\n",
    "cv.imshow('image',img)\n",
    "cv.imshow('bilateralFilter',Bfilter)\n",
    "cv.waitKey(0)\n",
    "cv.destroyAllWindows()\n"
   ]
  },
  {
   "cell_type": "markdown",
   "id": "be5fe76d",
   "metadata": {},
   "source": [
    "# MEDIAN FLITER AND BLUR"
   ]
  },
  {
   "cell_type": "code",
   "execution_count": 15,
   "id": "54880e40",
   "metadata": {},
   "outputs": [],
   "source": [
    "img=cv.imread(\"C:\\\\Users\\\\pmu\\\\Downloads\\\\download.jpg\")"
   ]
  },
  {
   "cell_type": "code",
   "execution_count": 21,
   "id": "7d5dfd9f",
   "metadata": {},
   "outputs": [],
   "source": [
    "medianfilter=cv.medianBlur(img,7)\n",
    "cv.imshow('image',img)\n",
    "cv.imshow('medianBlur',medianfilter)\n",
    "cv.waitKey(0)\n",
    "cv.destroyAllWindows()"
   ]
  },
  {
   "cell_type": "code",
   "execution_count": null,
   "id": "4834f28b",
   "metadata": {},
   "outputs": [],
   "source": []
  }
 ],
 "metadata": {
  "kernelspec": {
   "display_name": "Python 3 (ipykernel)",
   "language": "python",
   "name": "python3"
  },
  "language_info": {
   "codemirror_mode": {
    "name": "ipython",
    "version": 3
   },
   "file_extension": ".py",
   "mimetype": "text/x-python",
   "name": "python",
   "nbconvert_exporter": "python",
   "pygments_lexer": "ipython3",
   "version": "3.9.18"
  }
 },
 "nbformat": 4,
 "nbformat_minor": 5
}
