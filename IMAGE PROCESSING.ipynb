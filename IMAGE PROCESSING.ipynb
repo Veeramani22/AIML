{
 "cells": [
  {
   "cell_type": "code",
   "execution_count": 2,
   "id": "9cc4aad2",
   "metadata": {},
   "outputs": [],
   "source": [
    "import cv2 as cv"
   ]
  },
  {
   "cell_type": "code",
   "execution_count": 3,
   "id": "bdcd7242",
   "metadata": {},
   "outputs": [],
   "source": [
    "import numpy as np"
   ]
  },
  {
   "cell_type": "markdown",
   "id": "2e07be5c",
   "metadata": {},
   "source": [
    "# LAPLACIAN FLITER"
   ]
  },
  {
   "cell_type": "code",
   "execution_count": 25,
   "id": "2742f9c1",
   "metadata": {},
   "outputs": [],
   "source": [
    "a=cv.imread(\"C:\\\\Users\\SYS76\\\\Desktop\\\\maxresdefault.jpg\",0)"
   ]
  },
  {
   "cell_type": "code",
   "execution_count": 26,
   "id": "944c0e4a",
   "metadata": {},
   "outputs": [],
   "source": [
    "cv.imshow(\"image\",a)\n",
    "cv.waitKey(0)\n",
    "cv.destroyAllWindows()"
   ]
  },
  {
   "cell_type": "code",
   "execution_count": 38,
   "id": "395f62ad",
   "metadata": {
    "scrolled": false
   },
   "outputs": [
    {
     "data": {
      "text/plain": [
       "array([[ 344., -226.,   -7., ...,   -8., -109.,  178.],\n",
       "       [ 319., -153.,   22., ...,   -6.,  -86.,  192.],\n",
       "       [ 328., -183.,  -24., ...,    3.,  -89.,  149.],\n",
       "       ...,\n",
       "       [ 255., -120.,   15., ...,   -6., -125.,  246.],\n",
       "       [ 260., -125.,   11., ...,   -3., -134.,  227.],\n",
       "       [ 254., -152.,  -20., ...,   40.,  -98.,  236.]])"
      ]
     },
     "execution_count": 38,
     "metadata": {},
     "output_type": "execute_result"
    }
   ],
   "source": [
    "lap=cv.Laplacian(a,cv.CV_64F,ksize=1)\n",
    "lap\n"
   ]
  },
  {
   "cell_type": "code",
   "execution_count": 39,
   "id": "b3fd27ed",
   "metadata": {},
   "outputs": [],
   "source": [
    "lap=np.uint8(np.absolute(lap))\n",
    "cv.imshow(\"LAP\",lap)\n",
    "cv.imshow(\"image\",a)\n",
    "cv.waitKey(0)\n",
    "cv.destroyAllWindows()"
   ]
  },
  {
   "cell_type": "markdown",
   "id": "990436c8",
   "metadata": {},
   "source": [
    "# SOBAL FILTER\n"
   ]
  },
  {
   "cell_type": "code",
   "execution_count": 54,
   "id": "e6183e87",
   "metadata": {},
   "outputs": [],
   "source": [
    "a=cv.imread(\"C:\\\\Users\\SYS76\\\\Desktop\\\\maxresdefault.jpg\",0)\n"
   ]
  },
  {
   "cell_type": "code",
   "execution_count": 74,
   "id": "b1bd9073",
   "metadata": {},
   "outputs": [
    {
     "name": "stdout",
     "output_type": "stream",
     "text": [
      "[[    0.  4276.  1246. ...  -906. -2514.     0.]\n",
      " [    0.  4353.  1377. ...  -907. -2497.     0.]\n",
      " [    0.  4444.  1641. ...  -881. -2497.     0.]\n",
      " ...\n",
      " [    0.  4010.  2086. ... -1827. -3833.     0.]\n",
      " [    0.  3995.  2044. ... -1605. -3529.     0.]\n",
      " [    0.  4010.  2016. ... -1488. -3380.     0.]]\n"
     ]
    }
   ],
   "source": [
    "sobelx=cv.Sobel(a,cv.CV_64F,1,0,ksize=5)\n",
    "print(sobelx)\n",
    "sobelx=np.uint8(np.absolute(sobelx))\n",
    "cv.imshow(\"image\",a)\n",
    "cv.imshow(\"soblex\",sobelx)\n",
    "cv.waitKey(0)\n",
    "cv.destroyAllWindows()"
   ]
  },
  {
   "cell_type": "code",
   "execution_count": 72,
   "id": "657f483c",
   "metadata": {},
   "outputs": [
    {
     "name": "stdout",
     "output_type": "stream",
     "text": [
      "[[   0.    0.    0. ...    0.    0.    0.]\n",
      " [-158.  -81.  127. ...  -11.    5.   22.]\n",
      " [-270. -256. -109. ...   17.   27.   10.]\n",
      " ...\n",
      " [ -42.  -72. -116. ... -675. -415. -260.]\n",
      " [ 278.  293.  280. ... -771. -505. -356.]\n",
      " [   0.    0.    0. ...    0.    0.    0.]]\n"
     ]
    }
   ],
   "source": [
    "sobely=cv.Sobel(a,cv.CV_64F,0,1,ksize=5)\n",
    "print(sobely)\n",
    "cv.imshow(\"image\",a)\n",
    "sobely=np.uint8(np.absolute(sobely))\n",
    "cv.imshow(\"sobley\",sobely)\n",
    "cv.waitKey(0)\n",
    "cv.destroyAllWindows()"
   ]
  },
  {
   "cell_type": "code",
   "execution_count": null,
   "id": "50ae2002",
   "metadata": {},
   "outputs": [],
   "source": []
  }
 ],
 "metadata": {
  "kernelspec": {
   "display_name": "Python 3 (ipykernel)",
   "language": "python",
   "name": "python3"
  },
  "language_info": {
   "codemirror_mode": {
    "name": "ipython",
    "version": 3
   },
   "file_extension": ".py",
   "mimetype": "text/x-python",
   "name": "python",
   "nbconvert_exporter": "python",
   "pygments_lexer": "ipython3",
   "version": "3.9.18"
  }
 },
 "nbformat": 4,
 "nbformat_minor": 5
}
